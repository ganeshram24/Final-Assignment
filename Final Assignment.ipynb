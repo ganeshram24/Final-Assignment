{
 "cells": [
  {
   "cell_type": "code",
   "execution_count": 122,
   "id": "10ca619f",
   "metadata": {},
   "outputs": [],
   "source": [
    "import numpy as np\n",
    "import pandas as pd\n",
    "import os"
   ]
  },
  {
   "cell_type": "code",
   "execution_count": 123,
   "id": "90880219",
   "metadata": {},
   "outputs": [
    {
     "data": {
      "text/plain": [
       "(4599, 18)"
      ]
     },
     "execution_count": 123,
     "metadata": {},
     "output_type": "execute_result"
    }
   ],
   "source": [
    "df = pd.read_csv(\"data.csv\")\n",
    "df.shape"
   ]
  },
  {
   "cell_type": "code",
   "execution_count": 124,
   "id": "54499cb2",
   "metadata": {},
   "outputs": [
    {
     "data": {
      "text/plain": [
       "Date              object\n",
       "Price            float64\n",
       "Bedrooms           int64\n",
       "Bathrooms          int64\n",
       "Sqft_Living        int64\n",
       "Sqft_Lot           int64\n",
       "Floors           float64\n",
       "Waterfront         int64\n",
       "View               int64\n",
       "Condition          int64\n",
       "Sqft_Above         int64\n",
       "Sqft_Basement      int64\n",
       "Yr_Built           int64\n",
       "Yr_Renovated       int64\n",
       "Street            object\n",
       "City              object\n",
       "Statezip          object\n",
       "Country           object\n",
       "dtype: object"
      ]
     },
     "execution_count": 124,
     "metadata": {},
     "output_type": "execute_result"
    }
   ],
   "source": [
    "df.dtypes"
   ]
  },
  {
   "cell_type": "code",
   "execution_count": 125,
   "id": "18a46686",
   "metadata": {},
   "outputs": [
    {
     "data": {
      "text/html": [
       "<div>\n",
       "<style scoped>\n",
       "    .dataframe tbody tr th:only-of-type {\n",
       "        vertical-align: middle;\n",
       "    }\n",
       "\n",
       "    .dataframe tbody tr th {\n",
       "        vertical-align: top;\n",
       "    }\n",
       "\n",
       "    .dataframe thead th {\n",
       "        text-align: right;\n",
       "    }\n",
       "</style>\n",
       "<table border=\"1\" class=\"dataframe\">\n",
       "  <thead>\n",
       "    <tr style=\"text-align: right;\">\n",
       "      <th></th>\n",
       "      <th>Date</th>\n",
       "      <th>Price</th>\n",
       "      <th>Bedrooms</th>\n",
       "      <th>Bathrooms</th>\n",
       "      <th>Sqft_Living</th>\n",
       "      <th>Sqft_Lot</th>\n",
       "      <th>Floors</th>\n",
       "      <th>Waterfront</th>\n",
       "      <th>View</th>\n",
       "      <th>Condition</th>\n",
       "      <th>Sqft_Above</th>\n",
       "      <th>Sqft_Basement</th>\n",
       "      <th>Yr_Built</th>\n",
       "      <th>Yr_Renovated</th>\n",
       "      <th>Street</th>\n",
       "      <th>City</th>\n",
       "      <th>Statezip</th>\n",
       "      <th>Country</th>\n",
       "    </tr>\n",
       "  </thead>\n",
       "  <tbody>\n",
       "    <tr>\n",
       "      <th>0</th>\n",
       "      <td>2/5/2014</td>\n",
       "      <td>313000.0</td>\n",
       "      <td>3</td>\n",
       "      <td>2</td>\n",
       "      <td>1340</td>\n",
       "      <td>7912</td>\n",
       "      <td>1.5</td>\n",
       "      <td>0</td>\n",
       "      <td>0</td>\n",
       "      <td>3</td>\n",
       "      <td>1340</td>\n",
       "      <td>0</td>\n",
       "      <td>1955</td>\n",
       "      <td>2005</td>\n",
       "      <td>18810 Densmore Ave N</td>\n",
       "      <td>Shoreline</td>\n",
       "      <td>WA 98133</td>\n",
       "      <td>USA</td>\n",
       "    </tr>\n",
       "    <tr>\n",
       "      <th>1</th>\n",
       "      <td>2/5/2014</td>\n",
       "      <td>2384000.0</td>\n",
       "      <td>5</td>\n",
       "      <td>3</td>\n",
       "      <td>3650</td>\n",
       "      <td>9050</td>\n",
       "      <td>2.0</td>\n",
       "      <td>0</td>\n",
       "      <td>4</td>\n",
       "      <td>5</td>\n",
       "      <td>3370</td>\n",
       "      <td>280</td>\n",
       "      <td>1921</td>\n",
       "      <td>0</td>\n",
       "      <td>709 W Blaine St</td>\n",
       "      <td>Seattle</td>\n",
       "      <td>WA 98119</td>\n",
       "      <td>USA</td>\n",
       "    </tr>\n",
       "    <tr>\n",
       "      <th>2</th>\n",
       "      <td>2/5/2014</td>\n",
       "      <td>342000.0</td>\n",
       "      <td>3</td>\n",
       "      <td>2</td>\n",
       "      <td>1930</td>\n",
       "      <td>11947</td>\n",
       "      <td>1.0</td>\n",
       "      <td>0</td>\n",
       "      <td>0</td>\n",
       "      <td>4</td>\n",
       "      <td>1930</td>\n",
       "      <td>0</td>\n",
       "      <td>1966</td>\n",
       "      <td>0</td>\n",
       "      <td>26206-26214 143rd Ave SE</td>\n",
       "      <td>Kent</td>\n",
       "      <td>WA 98042</td>\n",
       "      <td>USA</td>\n",
       "    </tr>\n",
       "    <tr>\n",
       "      <th>3</th>\n",
       "      <td>2/5/2014</td>\n",
       "      <td>420000.0</td>\n",
       "      <td>3</td>\n",
       "      <td>2</td>\n",
       "      <td>2000</td>\n",
       "      <td>8030</td>\n",
       "      <td>1.0</td>\n",
       "      <td>0</td>\n",
       "      <td>0</td>\n",
       "      <td>4</td>\n",
       "      <td>1000</td>\n",
       "      <td>1000</td>\n",
       "      <td>1963</td>\n",
       "      <td>0</td>\n",
       "      <td>857 170th Pl NE</td>\n",
       "      <td>Bellevue</td>\n",
       "      <td>WA 98008</td>\n",
       "      <td>USA</td>\n",
       "    </tr>\n",
       "    <tr>\n",
       "      <th>4</th>\n",
       "      <td>2/5/2014</td>\n",
       "      <td>550000.0</td>\n",
       "      <td>4</td>\n",
       "      <td>3</td>\n",
       "      <td>1940</td>\n",
       "      <td>10500</td>\n",
       "      <td>1.0</td>\n",
       "      <td>0</td>\n",
       "      <td>0</td>\n",
       "      <td>4</td>\n",
       "      <td>1140</td>\n",
       "      <td>800</td>\n",
       "      <td>1976</td>\n",
       "      <td>1992</td>\n",
       "      <td>9105 170th Ave NE</td>\n",
       "      <td>Redmond</td>\n",
       "      <td>WA 98052</td>\n",
       "      <td>USA</td>\n",
       "    </tr>\n",
       "    <tr>\n",
       "      <th>5</th>\n",
       "      <td>2/5/2014</td>\n",
       "      <td>490000.0</td>\n",
       "      <td>2</td>\n",
       "      <td>1</td>\n",
       "      <td>880</td>\n",
       "      <td>6380</td>\n",
       "      <td>1.0</td>\n",
       "      <td>0</td>\n",
       "      <td>0</td>\n",
       "      <td>3</td>\n",
       "      <td>880</td>\n",
       "      <td>0</td>\n",
       "      <td>1938</td>\n",
       "      <td>1994</td>\n",
       "      <td>522 NE 88th St</td>\n",
       "      <td>Seattle</td>\n",
       "      <td>WA 98115</td>\n",
       "      <td>USA</td>\n",
       "    </tr>\n",
       "    <tr>\n",
       "      <th>6</th>\n",
       "      <td>2/5/2014</td>\n",
       "      <td>335000.0</td>\n",
       "      <td>2</td>\n",
       "      <td>2</td>\n",
       "      <td>1350</td>\n",
       "      <td>2560</td>\n",
       "      <td>1.0</td>\n",
       "      <td>0</td>\n",
       "      <td>0</td>\n",
       "      <td>3</td>\n",
       "      <td>1350</td>\n",
       "      <td>0</td>\n",
       "      <td>1976</td>\n",
       "      <td>0</td>\n",
       "      <td>2616 174th Ave NE</td>\n",
       "      <td>Redmond</td>\n",
       "      <td>WA 98052</td>\n",
       "      <td>USA</td>\n",
       "    </tr>\n",
       "    <tr>\n",
       "      <th>7</th>\n",
       "      <td>2/5/2014</td>\n",
       "      <td>482000.0</td>\n",
       "      <td>4</td>\n",
       "      <td>3</td>\n",
       "      <td>2710</td>\n",
       "      <td>35868</td>\n",
       "      <td>2.0</td>\n",
       "      <td>0</td>\n",
       "      <td>0</td>\n",
       "      <td>3</td>\n",
       "      <td>2710</td>\n",
       "      <td>0</td>\n",
       "      <td>1989</td>\n",
       "      <td>0</td>\n",
       "      <td>23762 SE 253rd Pl</td>\n",
       "      <td>Maple Valley</td>\n",
       "      <td>WA 98038</td>\n",
       "      <td>USA</td>\n",
       "    </tr>\n",
       "  </tbody>\n",
       "</table>\n",
       "</div>"
      ],
      "text/plain": [
       "       Date      Price  Bedrooms  Bathrooms  Sqft_Living  Sqft_Lot  Floors  \\\n",
       "0  2/5/2014   313000.0         3          2         1340      7912     1.5   \n",
       "1  2/5/2014  2384000.0         5          3         3650      9050     2.0   \n",
       "2  2/5/2014   342000.0         3          2         1930     11947     1.0   \n",
       "3  2/5/2014   420000.0         3          2         2000      8030     1.0   \n",
       "4  2/5/2014   550000.0         4          3         1940     10500     1.0   \n",
       "5  2/5/2014   490000.0         2          1          880      6380     1.0   \n",
       "6  2/5/2014   335000.0         2          2         1350      2560     1.0   \n",
       "7  2/5/2014   482000.0         4          3         2710     35868     2.0   \n",
       "\n",
       "   Waterfront  View  Condition  Sqft_Above  Sqft_Basement  Yr_Built  \\\n",
       "0           0     0          3        1340              0      1955   \n",
       "1           0     4          5        3370            280      1921   \n",
       "2           0     0          4        1930              0      1966   \n",
       "3           0     0          4        1000           1000      1963   \n",
       "4           0     0          4        1140            800      1976   \n",
       "5           0     0          3         880              0      1938   \n",
       "6           0     0          3        1350              0      1976   \n",
       "7           0     0          3        2710              0      1989   \n",
       "\n",
       "   Yr_Renovated                    Street          City  Statezip Country  \n",
       "0          2005      18810 Densmore Ave N     Shoreline  WA 98133     USA  \n",
       "1             0           709 W Blaine St       Seattle  WA 98119     USA  \n",
       "2             0  26206-26214 143rd Ave SE          Kent  WA 98042     USA  \n",
       "3             0           857 170th Pl NE      Bellevue  WA 98008     USA  \n",
       "4          1992         9105 170th Ave NE       Redmond  WA 98052     USA  \n",
       "5          1994            522 NE 88th St       Seattle  WA 98115     USA  \n",
       "6             0         2616 174th Ave NE       Redmond  WA 98052     USA  \n",
       "7             0         23762 SE 253rd Pl  Maple Valley  WA 98038     USA  "
      ]
     },
     "execution_count": 125,
     "metadata": {},
     "output_type": "execute_result"
    }
   ],
   "source": [
    "df.head(8)"
   ]
  },
  {
   "cell_type": "code",
   "execution_count": 126,
   "id": "fc66286f",
   "metadata": {},
   "outputs": [
    {
     "data": {
      "text/html": [
       "<div>\n",
       "<style scoped>\n",
       "    .dataframe tbody tr th:only-of-type {\n",
       "        vertical-align: middle;\n",
       "    }\n",
       "\n",
       "    .dataframe tbody tr th {\n",
       "        vertical-align: top;\n",
       "    }\n",
       "\n",
       "    .dataframe thead th {\n",
       "        text-align: right;\n",
       "    }\n",
       "</style>\n",
       "<table border=\"1\" class=\"dataframe\">\n",
       "  <thead>\n",
       "    <tr style=\"text-align: right;\">\n",
       "      <th></th>\n",
       "      <th>Price</th>\n",
       "      <th>Bedrooms</th>\n",
       "      <th>Bathrooms</th>\n",
       "      <th>Sqft_Living</th>\n",
       "      <th>Sqft_Lot</th>\n",
       "      <th>Floors</th>\n",
       "      <th>Waterfront</th>\n",
       "      <th>View</th>\n",
       "      <th>Condition</th>\n",
       "      <th>Sqft_Above</th>\n",
       "      <th>Sqft_Basement</th>\n",
       "      <th>Yr_Built</th>\n",
       "      <th>Yr_Renovated</th>\n",
       "    </tr>\n",
       "  </thead>\n",
       "  <tbody>\n",
       "    <tr>\n",
       "      <th>count</th>\n",
       "      <td>4.599000e+03</td>\n",
       "      <td>4599.000000</td>\n",
       "      <td>4599.000000</td>\n",
       "      <td>4599.000000</td>\n",
       "      <td>4.599000e+03</td>\n",
       "      <td>4599.000000</td>\n",
       "      <td>4599.000000</td>\n",
       "      <td>4599.000000</td>\n",
       "      <td>4599.000000</td>\n",
       "      <td>4599.000000</td>\n",
       "      <td>4599.000000</td>\n",
       "      <td>4599.000000</td>\n",
       "      <td>4599.000000</td>\n",
       "    </tr>\n",
       "    <tr>\n",
       "      <th>mean</th>\n",
       "      <td>5.518547e+05</td>\n",
       "      <td>3.400739</td>\n",
       "      <td>2.363557</td>\n",
       "      <td>2139.177212</td>\n",
       "      <td>1.485418e+04</td>\n",
       "      <td>1.512177</td>\n",
       "      <td>0.007175</td>\n",
       "      <td>0.240052</td>\n",
       "      <td>3.451837</td>\n",
       "      <td>1827.343118</td>\n",
       "      <td>311.834094</td>\n",
       "      <td>1970.797130</td>\n",
       "      <td>808.347902</td>\n",
       "    </tr>\n",
       "    <tr>\n",
       "      <th>std</th>\n",
       "      <td>5.638482e+05</td>\n",
       "      <td>0.908904</td>\n",
       "      <td>0.875222</td>\n",
       "      <td>963.242841</td>\n",
       "      <td>3.588816e+04</td>\n",
       "      <td>0.538294</td>\n",
       "      <td>0.084413</td>\n",
       "      <td>0.777425</td>\n",
       "      <td>0.677271</td>\n",
       "      <td>862.246626</td>\n",
       "      <td>463.884192</td>\n",
       "      <td>29.726013</td>\n",
       "      <td>979.361818</td>\n",
       "    </tr>\n",
       "    <tr>\n",
       "      <th>min</th>\n",
       "      <td>0.000000e+00</td>\n",
       "      <td>0.000000</td>\n",
       "      <td>0.000000</td>\n",
       "      <td>370.000000</td>\n",
       "      <td>6.380000e+02</td>\n",
       "      <td>1.000000</td>\n",
       "      <td>0.000000</td>\n",
       "      <td>0.000000</td>\n",
       "      <td>1.000000</td>\n",
       "      <td>370.000000</td>\n",
       "      <td>0.000000</td>\n",
       "      <td>1900.000000</td>\n",
       "      <td>0.000000</td>\n",
       "    </tr>\n",
       "    <tr>\n",
       "      <th>25%</th>\n",
       "      <td>3.227500e+05</td>\n",
       "      <td>3.000000</td>\n",
       "      <td>2.000000</td>\n",
       "      <td>1460.000000</td>\n",
       "      <td>5.000500e+03</td>\n",
       "      <td>1.000000</td>\n",
       "      <td>0.000000</td>\n",
       "      <td>0.000000</td>\n",
       "      <td>3.000000</td>\n",
       "      <td>1190.000000</td>\n",
       "      <td>0.000000</td>\n",
       "      <td>1951.000000</td>\n",
       "      <td>0.000000</td>\n",
       "    </tr>\n",
       "    <tr>\n",
       "      <th>50%</th>\n",
       "      <td>4.608869e+05</td>\n",
       "      <td>3.000000</td>\n",
       "      <td>2.000000</td>\n",
       "      <td>1980.000000</td>\n",
       "      <td>7.683000e+03</td>\n",
       "      <td>1.500000</td>\n",
       "      <td>0.000000</td>\n",
       "      <td>0.000000</td>\n",
       "      <td>3.000000</td>\n",
       "      <td>1590.000000</td>\n",
       "      <td>0.000000</td>\n",
       "      <td>1976.000000</td>\n",
       "      <td>0.000000</td>\n",
       "    </tr>\n",
       "    <tr>\n",
       "      <th>75%</th>\n",
       "      <td>6.544750e+05</td>\n",
       "      <td>4.000000</td>\n",
       "      <td>3.000000</td>\n",
       "      <td>2620.000000</td>\n",
       "      <td>1.100250e+04</td>\n",
       "      <td>2.000000</td>\n",
       "      <td>0.000000</td>\n",
       "      <td>0.000000</td>\n",
       "      <td>4.000000</td>\n",
       "      <td>2300.000000</td>\n",
       "      <td>610.000000</td>\n",
       "      <td>1997.000000</td>\n",
       "      <td>1999.000000</td>\n",
       "    </tr>\n",
       "    <tr>\n",
       "      <th>max</th>\n",
       "      <td>2.659000e+07</td>\n",
       "      <td>9.000000</td>\n",
       "      <td>8.000000</td>\n",
       "      <td>13540.000000</td>\n",
       "      <td>1.074218e+06</td>\n",
       "      <td>3.500000</td>\n",
       "      <td>1.000000</td>\n",
       "      <td>4.000000</td>\n",
       "      <td>5.000000</td>\n",
       "      <td>9410.000000</td>\n",
       "      <td>4820.000000</td>\n",
       "      <td>2014.000000</td>\n",
       "      <td>2014.000000</td>\n",
       "    </tr>\n",
       "  </tbody>\n",
       "</table>\n",
       "</div>"
      ],
      "text/plain": [
       "              Price     Bedrooms    Bathrooms   Sqft_Living      Sqft_Lot  \\\n",
       "count  4.599000e+03  4599.000000  4599.000000   4599.000000  4.599000e+03   \n",
       "mean   5.518547e+05     3.400739     2.363557   2139.177212  1.485418e+04   \n",
       "std    5.638482e+05     0.908904     0.875222    963.242841  3.588816e+04   \n",
       "min    0.000000e+00     0.000000     0.000000    370.000000  6.380000e+02   \n",
       "25%    3.227500e+05     3.000000     2.000000   1460.000000  5.000500e+03   \n",
       "50%    4.608869e+05     3.000000     2.000000   1980.000000  7.683000e+03   \n",
       "75%    6.544750e+05     4.000000     3.000000   2620.000000  1.100250e+04   \n",
       "max    2.659000e+07     9.000000     8.000000  13540.000000  1.074218e+06   \n",
       "\n",
       "            Floors   Waterfront         View    Condition   Sqft_Above  \\\n",
       "count  4599.000000  4599.000000  4599.000000  4599.000000  4599.000000   \n",
       "mean      1.512177     0.007175     0.240052     3.451837  1827.343118   \n",
       "std       0.538294     0.084413     0.777425     0.677271   862.246626   \n",
       "min       1.000000     0.000000     0.000000     1.000000   370.000000   \n",
       "25%       1.000000     0.000000     0.000000     3.000000  1190.000000   \n",
       "50%       1.500000     0.000000     0.000000     3.000000  1590.000000   \n",
       "75%       2.000000     0.000000     0.000000     4.000000  2300.000000   \n",
       "max       3.500000     1.000000     4.000000     5.000000  9410.000000   \n",
       "\n",
       "       Sqft_Basement     Yr_Built  Yr_Renovated  \n",
       "count    4599.000000  4599.000000   4599.000000  \n",
       "mean      311.834094  1970.797130    808.347902  \n",
       "std       463.884192    29.726013    979.361818  \n",
       "min         0.000000  1900.000000      0.000000  \n",
       "25%         0.000000  1951.000000      0.000000  \n",
       "50%         0.000000  1976.000000      0.000000  \n",
       "75%       610.000000  1997.000000   1999.000000  \n",
       "max      4820.000000  2014.000000   2014.000000  "
      ]
     },
     "execution_count": 126,
     "metadata": {},
     "output_type": "execute_result"
    }
   ],
   "source": [
    "df.describe()"
   ]
  },
  {
   "cell_type": "code",
   "execution_count": 127,
   "id": "e84d1d92",
   "metadata": {},
   "outputs": [
    {
     "name": "stdout",
     "output_type": "stream",
     "text": [
      "Index(['Date', 'Street', 'City', 'Statezip', 'Country'], dtype='object')\n"
     ]
    },
    {
     "data": {
      "text/html": [
       "<div>\n",
       "<style scoped>\n",
       "    .dataframe tbody tr th:only-of-type {\n",
       "        vertical-align: middle;\n",
       "    }\n",
       "\n",
       "    .dataframe tbody tr th {\n",
       "        vertical-align: top;\n",
       "    }\n",
       "\n",
       "    .dataframe thead th {\n",
       "        text-align: right;\n",
       "    }\n",
       "</style>\n",
       "<table border=\"1\" class=\"dataframe\">\n",
       "  <thead>\n",
       "    <tr style=\"text-align: right;\">\n",
       "      <th></th>\n",
       "      <th>Date</th>\n",
       "      <th>Street</th>\n",
       "      <th>City</th>\n",
       "      <th>Statezip</th>\n",
       "      <th>Country</th>\n",
       "    </tr>\n",
       "  </thead>\n",
       "  <tbody>\n",
       "    <tr>\n",
       "      <th>count</th>\n",
       "      <td>4599</td>\n",
       "      <td>4599</td>\n",
       "      <td>4599</td>\n",
       "      <td>4599</td>\n",
       "      <td>4599</td>\n",
       "    </tr>\n",
       "    <tr>\n",
       "      <th>unique</th>\n",
       "      <td>70</td>\n",
       "      <td>4524</td>\n",
       "      <td>44</td>\n",
       "      <td>77</td>\n",
       "      <td>1</td>\n",
       "    </tr>\n",
       "    <tr>\n",
       "      <th>top</th>\n",
       "      <td>23/6/2014</td>\n",
       "      <td>2520 Mulberry Walk NE</td>\n",
       "      <td>Seattle</td>\n",
       "      <td>WA 98103</td>\n",
       "      <td>USA</td>\n",
       "    </tr>\n",
       "    <tr>\n",
       "      <th>freq</th>\n",
       "      <td>142</td>\n",
       "      <td>4</td>\n",
       "      <td>1572</td>\n",
       "      <td>148</td>\n",
       "      <td>4599</td>\n",
       "    </tr>\n",
       "  </tbody>\n",
       "</table>\n",
       "</div>"
      ],
      "text/plain": [
       "             Date                 Street     City  Statezip Country\n",
       "count        4599                   4599     4599      4599    4599\n",
       "unique         70                   4524       44        77       1\n",
       "top     23/6/2014  2520 Mulberry Walk NE  Seattle  WA 98103     USA\n",
       "freq          142                      4     1572       148    4599"
      ]
     },
     "execution_count": 127,
     "metadata": {},
     "output_type": "execute_result"
    }
   ],
   "source": [
    "Categorical = df.dtypes[df.dtypes == \"object\"].index\n",
    "print(Categorical)\n",
    "\n",
    "df[Categorical].describe()"
   ]
  },
  {
   "cell_type": "code",
   "execution_count": 128,
   "id": "423c6993",
   "metadata": {},
   "outputs": [
    {
     "name": "stdout",
     "output_type": "stream",
     "text": [
      "Index(['Bedrooms', 'Bathrooms', 'Sqft_Living', 'Sqft_Lot', 'Waterfront',\n",
      "       'View', 'Condition', 'Sqft_Above', 'Sqft_Basement', 'Yr_Built',\n",
      "       'Yr_Renovated'],\n",
      "      dtype='object')\n"
     ]
    },
    {
     "data": {
      "text/html": [
       "<div>\n",
       "<style scoped>\n",
       "    .dataframe tbody tr th:only-of-type {\n",
       "        vertical-align: middle;\n",
       "    }\n",
       "\n",
       "    .dataframe tbody tr th {\n",
       "        vertical-align: top;\n",
       "    }\n",
       "\n",
       "    .dataframe thead th {\n",
       "        text-align: right;\n",
       "    }\n",
       "</style>\n",
       "<table border=\"1\" class=\"dataframe\">\n",
       "  <thead>\n",
       "    <tr style=\"text-align: right;\">\n",
       "      <th></th>\n",
       "      <th>Bedrooms</th>\n",
       "      <th>Bathrooms</th>\n",
       "      <th>Sqft_Living</th>\n",
       "      <th>Sqft_Lot</th>\n",
       "      <th>Waterfront</th>\n",
       "      <th>View</th>\n",
       "      <th>Condition</th>\n",
       "      <th>Sqft_Above</th>\n",
       "      <th>Sqft_Basement</th>\n",
       "      <th>Yr_Built</th>\n",
       "      <th>Yr_Renovated</th>\n",
       "    </tr>\n",
       "  </thead>\n",
       "  <tbody>\n",
       "    <tr>\n",
       "      <th>count</th>\n",
       "      <td>4599.000000</td>\n",
       "      <td>4599.000000</td>\n",
       "      <td>4599.000000</td>\n",
       "      <td>4.599000e+03</td>\n",
       "      <td>4599.000000</td>\n",
       "      <td>4599.000000</td>\n",
       "      <td>4599.000000</td>\n",
       "      <td>4599.000000</td>\n",
       "      <td>4599.000000</td>\n",
       "      <td>4599.000000</td>\n",
       "      <td>4599.000000</td>\n",
       "    </tr>\n",
       "    <tr>\n",
       "      <th>mean</th>\n",
       "      <td>3.400739</td>\n",
       "      <td>2.363557</td>\n",
       "      <td>2139.177212</td>\n",
       "      <td>1.485418e+04</td>\n",
       "      <td>0.007175</td>\n",
       "      <td>0.240052</td>\n",
       "      <td>3.451837</td>\n",
       "      <td>1827.343118</td>\n",
       "      <td>311.834094</td>\n",
       "      <td>1970.797130</td>\n",
       "      <td>808.347902</td>\n",
       "    </tr>\n",
       "    <tr>\n",
       "      <th>std</th>\n",
       "      <td>0.908904</td>\n",
       "      <td>0.875222</td>\n",
       "      <td>963.242841</td>\n",
       "      <td>3.588816e+04</td>\n",
       "      <td>0.084413</td>\n",
       "      <td>0.777425</td>\n",
       "      <td>0.677271</td>\n",
       "      <td>862.246626</td>\n",
       "      <td>463.884192</td>\n",
       "      <td>29.726013</td>\n",
       "      <td>979.361818</td>\n",
       "    </tr>\n",
       "    <tr>\n",
       "      <th>min</th>\n",
       "      <td>0.000000</td>\n",
       "      <td>0.000000</td>\n",
       "      <td>370.000000</td>\n",
       "      <td>6.380000e+02</td>\n",
       "      <td>0.000000</td>\n",
       "      <td>0.000000</td>\n",
       "      <td>1.000000</td>\n",
       "      <td>370.000000</td>\n",
       "      <td>0.000000</td>\n",
       "      <td>1900.000000</td>\n",
       "      <td>0.000000</td>\n",
       "    </tr>\n",
       "    <tr>\n",
       "      <th>25%</th>\n",
       "      <td>3.000000</td>\n",
       "      <td>2.000000</td>\n",
       "      <td>1460.000000</td>\n",
       "      <td>5.000500e+03</td>\n",
       "      <td>0.000000</td>\n",
       "      <td>0.000000</td>\n",
       "      <td>3.000000</td>\n",
       "      <td>1190.000000</td>\n",
       "      <td>0.000000</td>\n",
       "      <td>1951.000000</td>\n",
       "      <td>0.000000</td>\n",
       "    </tr>\n",
       "    <tr>\n",
       "      <th>50%</th>\n",
       "      <td>3.000000</td>\n",
       "      <td>2.000000</td>\n",
       "      <td>1980.000000</td>\n",
       "      <td>7.683000e+03</td>\n",
       "      <td>0.000000</td>\n",
       "      <td>0.000000</td>\n",
       "      <td>3.000000</td>\n",
       "      <td>1590.000000</td>\n",
       "      <td>0.000000</td>\n",
       "      <td>1976.000000</td>\n",
       "      <td>0.000000</td>\n",
       "    </tr>\n",
       "    <tr>\n",
       "      <th>75%</th>\n",
       "      <td>4.000000</td>\n",
       "      <td>3.000000</td>\n",
       "      <td>2620.000000</td>\n",
       "      <td>1.100250e+04</td>\n",
       "      <td>0.000000</td>\n",
       "      <td>0.000000</td>\n",
       "      <td>4.000000</td>\n",
       "      <td>2300.000000</td>\n",
       "      <td>610.000000</td>\n",
       "      <td>1997.000000</td>\n",
       "      <td>1999.000000</td>\n",
       "    </tr>\n",
       "    <tr>\n",
       "      <th>max</th>\n",
       "      <td>9.000000</td>\n",
       "      <td>8.000000</td>\n",
       "      <td>13540.000000</td>\n",
       "      <td>1.074218e+06</td>\n",
       "      <td>1.000000</td>\n",
       "      <td>4.000000</td>\n",
       "      <td>5.000000</td>\n",
       "      <td>9410.000000</td>\n",
       "      <td>4820.000000</td>\n",
       "      <td>2014.000000</td>\n",
       "      <td>2014.000000</td>\n",
       "    </tr>\n",
       "  </tbody>\n",
       "</table>\n",
       "</div>"
      ],
      "text/plain": [
       "          Bedrooms    Bathrooms   Sqft_Living      Sqft_Lot   Waterfront  \\\n",
       "count  4599.000000  4599.000000   4599.000000  4.599000e+03  4599.000000   \n",
       "mean      3.400739     2.363557   2139.177212  1.485418e+04     0.007175   \n",
       "std       0.908904     0.875222    963.242841  3.588816e+04     0.084413   \n",
       "min       0.000000     0.000000    370.000000  6.380000e+02     0.000000   \n",
       "25%       3.000000     2.000000   1460.000000  5.000500e+03     0.000000   \n",
       "50%       3.000000     2.000000   1980.000000  7.683000e+03     0.000000   \n",
       "75%       4.000000     3.000000   2620.000000  1.100250e+04     0.000000   \n",
       "max       9.000000     8.000000  13540.000000  1.074218e+06     1.000000   \n",
       "\n",
       "              View    Condition   Sqft_Above  Sqft_Basement     Yr_Built  \\\n",
       "count  4599.000000  4599.000000  4599.000000    4599.000000  4599.000000   \n",
       "mean      0.240052     3.451837  1827.343118     311.834094  1970.797130   \n",
       "std       0.777425     0.677271   862.246626     463.884192    29.726013   \n",
       "min       0.000000     1.000000   370.000000       0.000000  1900.000000   \n",
       "25%       0.000000     3.000000  1190.000000       0.000000  1951.000000   \n",
       "50%       0.000000     3.000000  1590.000000       0.000000  1976.000000   \n",
       "75%       0.000000     4.000000  2300.000000     610.000000  1997.000000   \n",
       "max       4.000000     5.000000  9410.000000    4820.000000  2014.000000   \n",
       "\n",
       "       Yr_Renovated  \n",
       "count   4599.000000  \n",
       "mean     808.347902  \n",
       "std      979.361818  \n",
       "min        0.000000  \n",
       "25%        0.000000  \n",
       "50%        0.000000  \n",
       "75%     1999.000000  \n",
       "max     2014.000000  "
      ]
     },
     "execution_count": 128,
     "metadata": {},
     "output_type": "execute_result"
    }
   ],
   "source": [
    "Categorical = df.dtypes[df.dtypes == \"int64\"].index\n",
    "print(Categorical)\n",
    "\n",
    "df[Categorical].describe()"
   ]
  },
  {
   "cell_type": "code",
   "execution_count": 129,
   "id": "a5f83ce5",
   "metadata": {},
   "outputs": [],
   "source": [
    "del df[\"Street\"]"
   ]
  },
  {
   "cell_type": "code",
   "execution_count": 130,
   "id": "9906b9ff",
   "metadata": {},
   "outputs": [
    {
     "data": {
      "text/plain": [
       "[0, 0, 1, 1, 1, 1, 1, 1, 1, 1, 1, 1, 1, 1, 1]"
      ]
     },
     "execution_count": 130,
     "metadata": {},
     "output_type": "execute_result"
    }
   ],
   "source": [
    "sorted(df[\"Bedrooms\"])[0:15]"
   ]
  },
  {
   "cell_type": "code",
   "execution_count": 131,
   "id": "cf657c6e",
   "metadata": {},
   "outputs": [
    {
     "data": {
      "text/plain": [
       "count    4599.000000\n",
       "mean        3.400739\n",
       "std         0.908904\n",
       "min         0.000000\n",
       "25%         3.000000\n",
       "50%         3.000000\n",
       "75%         4.000000\n",
       "max         9.000000\n",
       "Name: Bedrooms, dtype: float64"
      ]
     },
     "execution_count": 131,
     "metadata": {},
     "output_type": "execute_result"
    }
   ],
   "source": [
    "df[\"Bedrooms\"].describe()"
   ]
  },
  {
   "cell_type": "code",
   "execution_count": 132,
   "id": "07c03f8b",
   "metadata": {},
   "outputs": [
    {
     "data": {
      "text/plain": [
       "0     3\n",
       "1     5\n",
       "2     3\n",
       "3     3\n",
       "4     4\n",
       "5     2\n",
       "6     2\n",
       "7     4\n",
       "8     3\n",
       "9     4\n",
       "10    3\n",
       "11    4\n",
       "12    3\n",
       "13    3\n",
       "14    5\n",
       "Name: Bedrooms, dtype: int64"
      ]
     },
     "execution_count": 132,
     "metadata": {},
     "output_type": "execute_result"
    }
   ],
   "source": [
    "df[\"Bedrooms\"][0:15]"
   ]
  },
  {
   "cell_type": "code",
   "execution_count": 133,
   "id": "f3e61610",
   "metadata": {},
   "outputs": [
    {
     "data": {
      "text/plain": [
       "0     1955\n",
       "1     1921\n",
       "2     1966\n",
       "3     1963\n",
       "4     1976\n",
       "5     1938\n",
       "6     1976\n",
       "7     1989\n",
       "8     1985\n",
       "9     1945\n",
       "10    1948\n",
       "11    1909\n",
       "12    1980\n",
       "13    1955\n",
       "14    1939\n",
       "Name: Yr_Built, dtype: int64"
      ]
     },
     "execution_count": 133,
     "metadata": {},
     "output_type": "execute_result"
    }
   ],
   "source": [
    "df[\"Yr_Built\"][0:15]"
   ]
  },
  {
   "cell_type": "code",
   "execution_count": 134,
   "id": "e8ebc3f5",
   "metadata": {},
   "outputs": [
    {
     "data": {
      "text/plain": [
       "count    4599.000000\n",
       "mean     1970.797130\n",
       "std        29.726013\n",
       "min      1900.000000\n",
       "25%      1951.000000\n",
       "50%      1976.000000\n",
       "75%      1997.000000\n",
       "max      2014.000000\n",
       "Name: Yr_Built, dtype: float64"
      ]
     },
     "execution_count": 134,
     "metadata": {},
     "output_type": "execute_result"
    }
   ],
   "source": [
    "df[\"Yr_Built\"].describe()"
   ]
  },
  {
   "cell_type": "code",
   "execution_count": 135,
   "id": "7514454f",
   "metadata": {},
   "outputs": [
    {
     "data": {
      "text/plain": [
       "[1900,\n",
       " 1900,\n",
       " 1900,\n",
       " 1900,\n",
       " 1900,\n",
       " 1900,\n",
       " 1900,\n",
       " 1900,\n",
       " 1900,\n",
       " 1900,\n",
       " 1900,\n",
       " 1900,\n",
       " 1900,\n",
       " 1900,\n",
       " 1900]"
      ]
     },
     "execution_count": 135,
     "metadata": {},
     "output_type": "execute_result"
    }
   ],
   "source": [
    "sorted(df[\"Yr_Built\"])[0:15]"
   ]
  },
  {
   "cell_type": "code",
   "execution_count": 136,
   "id": "634726bf",
   "metadata": {},
   "outputs": [
    {
     "data": {
      "text/plain": [
       "0     2005\n",
       "1        0\n",
       "2        0\n",
       "3        0\n",
       "4     1992\n",
       "5     1994\n",
       "6        0\n",
       "7        0\n",
       "8        0\n",
       "9     2010\n",
       "10    1994\n",
       "11    1988\n",
       "12       0\n",
       "13    2009\n",
       "14    1969\n",
       "Name: Yr_Renovated, dtype: int64"
      ]
     },
     "execution_count": 136,
     "metadata": {},
     "output_type": "execute_result"
    }
   ],
   "source": [
    "df[\"Yr_Renovated\"][0:15]"
   ]
  },
  {
   "cell_type": "code",
   "execution_count": 137,
   "id": "769992bd",
   "metadata": {},
   "outputs": [
    {
     "data": {
      "text/plain": [
       "count    4599.000000\n",
       "mean      808.347902\n",
       "std       979.361818\n",
       "min         0.000000\n",
       "25%         0.000000\n",
       "50%         0.000000\n",
       "75%      1999.000000\n",
       "max      2014.000000\n",
       "Name: Yr_Renovated, dtype: float64"
      ]
     },
     "execution_count": 137,
     "metadata": {},
     "output_type": "execute_result"
    }
   ],
   "source": [
    "df[\"Yr_Renovated\"].describe()"
   ]
  },
  {
   "cell_type": "code",
   "execution_count": 138,
   "id": "c67682b8",
   "metadata": {},
   "outputs": [
    {
     "data": {
      "text/html": [
       "<div>\n",
       "<style scoped>\n",
       "    .dataframe tbody tr th:only-of-type {\n",
       "        vertical-align: middle;\n",
       "    }\n",
       "\n",
       "    .dataframe tbody tr th {\n",
       "        vertical-align: top;\n",
       "    }\n",
       "\n",
       "    .dataframe thead th {\n",
       "        text-align: right;\n",
       "    }\n",
       "</style>\n",
       "<table border=\"1\" class=\"dataframe\">\n",
       "  <thead>\n",
       "    <tr style=\"text-align: right;\">\n",
       "      <th></th>\n",
       "      <th>counts</th>\n",
       "      <th>freqs</th>\n",
       "    </tr>\n",
       "    <tr>\n",
       "      <th>categories</th>\n",
       "      <th></th>\n",
       "      <th></th>\n",
       "    </tr>\n",
       "  </thead>\n",
       "  <tbody>\n",
       "    <tr>\n",
       "      <th>View</th>\n",
       "      <td>4566</td>\n",
       "      <td>0.992825</td>\n",
       "    </tr>\n",
       "    <tr>\n",
       "      <th>Waterfront</th>\n",
       "      <td>33</td>\n",
       "      <td>0.007175</td>\n",
       "    </tr>\n",
       "  </tbody>\n",
       "</table>\n",
       "</div>"
      ],
      "text/plain": [
       "            counts     freqs\n",
       "categories                  \n",
       "View          4566  0.992825\n",
       "Waterfront      33  0.007175"
      ]
     },
     "execution_count": 138,
     "metadata": {},
     "output_type": "execute_result"
    }
   ],
   "source": [
    "new_surv = pd.Categorical(df[\"Waterfront\"])\n",
    "new_surv = new_surv.rename_categories([\"View\",\"Waterfront\"])\n",
    "\n",
    "new_surv.describe()"
   ]
  },
  {
   "cell_type": "code",
   "execution_count": 139,
   "id": "bd451240",
   "metadata": {},
   "outputs": [
    {
     "data": {
      "text/plain": [
       "array([3, 5, 4, 2, 6, 7, 9, 1, 8, 0], dtype=int64)"
      ]
     },
     "execution_count": 139,
     "metadata": {},
     "output_type": "execute_result"
    }
   ],
   "source": [
    "df[\"Bedrooms\"].unique()"
   ]
  },
  {
   "cell_type": "code",
   "execution_count": 140,
   "id": "0c00a534",
   "metadata": {},
   "outputs": [
    {
     "data": {
      "text/html": [
       "<div>\n",
       "<style scoped>\n",
       "    .dataframe tbody tr th:only-of-type {\n",
       "        vertical-align: middle;\n",
       "    }\n",
       "\n",
       "    .dataframe tbody tr th {\n",
       "        vertical-align: top;\n",
       "    }\n",
       "\n",
       "    .dataframe thead th {\n",
       "        text-align: right;\n",
       "    }\n",
       "</style>\n",
       "<table border=\"1\" class=\"dataframe\">\n",
       "  <thead>\n",
       "    <tr style=\"text-align: right;\">\n",
       "      <th></th>\n",
       "      <th>counts</th>\n",
       "      <th>freqs</th>\n",
       "    </tr>\n",
       "    <tr>\n",
       "      <th>categories</th>\n",
       "      <th></th>\n",
       "      <th></th>\n",
       "    </tr>\n",
       "  </thead>\n",
       "  <tbody>\n",
       "    <tr>\n",
       "      <th>0</th>\n",
       "      <td>2</td>\n",
       "      <td>0.000435</td>\n",
       "    </tr>\n",
       "    <tr>\n",
       "      <th>1</th>\n",
       "      <td>38</td>\n",
       "      <td>0.008263</td>\n",
       "    </tr>\n",
       "    <tr>\n",
       "      <th>2</th>\n",
       "      <td>566</td>\n",
       "      <td>0.123070</td>\n",
       "    </tr>\n",
       "    <tr>\n",
       "      <th>3</th>\n",
       "      <td>2032</td>\n",
       "      <td>0.441835</td>\n",
       "    </tr>\n",
       "    <tr>\n",
       "      <th>4</th>\n",
       "      <td>1530</td>\n",
       "      <td>0.332681</td>\n",
       "    </tr>\n",
       "    <tr>\n",
       "      <th>5</th>\n",
       "      <td>353</td>\n",
       "      <td>0.076756</td>\n",
       "    </tr>\n",
       "    <tr>\n",
       "      <th>6</th>\n",
       "      <td>61</td>\n",
       "      <td>0.013264</td>\n",
       "    </tr>\n",
       "    <tr>\n",
       "      <th>7</th>\n",
       "      <td>14</td>\n",
       "      <td>0.003044</td>\n",
       "    </tr>\n",
       "    <tr>\n",
       "      <th>8</th>\n",
       "      <td>2</td>\n",
       "      <td>0.000435</td>\n",
       "    </tr>\n",
       "    <tr>\n",
       "      <th>9</th>\n",
       "      <td>1</td>\n",
       "      <td>0.000217</td>\n",
       "    </tr>\n",
       "  </tbody>\n",
       "</table>\n",
       "</div>"
      ],
      "text/plain": [
       "            counts     freqs\n",
       "categories                  \n",
       "0                2  0.000435\n",
       "1               38  0.008263\n",
       "2              566  0.123070\n",
       "3             2032  0.441835\n",
       "4             1530  0.332681\n",
       "5              353  0.076756\n",
       "6               61  0.013264\n",
       "7               14  0.003044\n",
       "8                2  0.000435\n",
       "9                1  0.000217"
      ]
     },
     "execution_count": 140,
     "metadata": {},
     "output_type": "execute_result"
    }
   ],
   "source": [
    "char_Bedrooms = df[\"Bedrooms\"].astype(str)\n",
    "\n",
    "new_Bedrooms = np.array([Bedrooms[0] for Bedrooms in char_Bedrooms])\n",
    "new_Bedrooms = pd.Categorical(new_Bedrooms)\n",
    "\n",
    "new_Bedrooms.describe()"
   ]
  },
  {
   "cell_type": "code",
   "execution_count": 141,
   "id": "163831d8",
   "metadata": {},
   "outputs": [],
   "source": [
    "df[\"Bedrooms\"] = new_Bedrooms"
   ]
  },
  {
   "cell_type": "code",
   "execution_count": 142,
   "id": "52d6295c",
   "metadata": {},
   "outputs": [
    {
     "data": {
      "text/html": [
       "<div>\n",
       "<style scoped>\n",
       "    .dataframe tbody tr th:only-of-type {\n",
       "        vertical-align: middle;\n",
       "    }\n",
       "\n",
       "    .dataframe tbody tr th {\n",
       "        vertical-align: top;\n",
       "    }\n",
       "\n",
       "    .dataframe thead th {\n",
       "        text-align: right;\n",
       "    }\n",
       "</style>\n",
       "<table border=\"1\" class=\"dataframe\">\n",
       "  <thead>\n",
       "    <tr style=\"text-align: right;\">\n",
       "      <th></th>\n",
       "      <th>Date</th>\n",
       "      <th>Price</th>\n",
       "      <th>Bedrooms</th>\n",
       "      <th>Bathrooms</th>\n",
       "      <th>Sqft_Living</th>\n",
       "      <th>Sqft_Lot</th>\n",
       "      <th>Floors</th>\n",
       "      <th>Waterfront</th>\n",
       "      <th>View</th>\n",
       "      <th>Condition</th>\n",
       "      <th>Sqft_Above</th>\n",
       "      <th>Sqft_Basement</th>\n",
       "      <th>Yr_Built</th>\n",
       "      <th>Yr_Renovated</th>\n",
       "      <th>City</th>\n",
       "      <th>Statezip</th>\n",
       "      <th>Country</th>\n",
       "    </tr>\n",
       "  </thead>\n",
       "  <tbody>\n",
       "    <tr>\n",
       "      <th>0</th>\n",
       "      <td>2/5/2014</td>\n",
       "      <td>3.130000e+05</td>\n",
       "      <td>3</td>\n",
       "      <td>2</td>\n",
       "      <td>1340</td>\n",
       "      <td>7912</td>\n",
       "      <td>1.5</td>\n",
       "      <td>0</td>\n",
       "      <td>0</td>\n",
       "      <td>3</td>\n",
       "      <td>1340</td>\n",
       "      <td>0</td>\n",
       "      <td>1955</td>\n",
       "      <td>2005</td>\n",
       "      <td>Shoreline</td>\n",
       "      <td>WA 98133</td>\n",
       "      <td>USA</td>\n",
       "    </tr>\n",
       "    <tr>\n",
       "      <th>1</th>\n",
       "      <td>2/5/2014</td>\n",
       "      <td>2.384000e+06</td>\n",
       "      <td>5</td>\n",
       "      <td>3</td>\n",
       "      <td>3650</td>\n",
       "      <td>9050</td>\n",
       "      <td>2.0</td>\n",
       "      <td>0</td>\n",
       "      <td>4</td>\n",
       "      <td>5</td>\n",
       "      <td>3370</td>\n",
       "      <td>280</td>\n",
       "      <td>1921</td>\n",
       "      <td>0</td>\n",
       "      <td>Seattle</td>\n",
       "      <td>WA 98119</td>\n",
       "      <td>USA</td>\n",
       "    </tr>\n",
       "    <tr>\n",
       "      <th>2</th>\n",
       "      <td>2/5/2014</td>\n",
       "      <td>3.420000e+05</td>\n",
       "      <td>3</td>\n",
       "      <td>2</td>\n",
       "      <td>1930</td>\n",
       "      <td>11947</td>\n",
       "      <td>1.0</td>\n",
       "      <td>0</td>\n",
       "      <td>0</td>\n",
       "      <td>4</td>\n",
       "      <td>1930</td>\n",
       "      <td>0</td>\n",
       "      <td>1966</td>\n",
       "      <td>0</td>\n",
       "      <td>Kent</td>\n",
       "      <td>WA 98042</td>\n",
       "      <td>USA</td>\n",
       "    </tr>\n",
       "    <tr>\n",
       "      <th>3</th>\n",
       "      <td>2/5/2014</td>\n",
       "      <td>4.200000e+05</td>\n",
       "      <td>3</td>\n",
       "      <td>2</td>\n",
       "      <td>2000</td>\n",
       "      <td>8030</td>\n",
       "      <td>1.0</td>\n",
       "      <td>0</td>\n",
       "      <td>0</td>\n",
       "      <td>4</td>\n",
       "      <td>1000</td>\n",
       "      <td>1000</td>\n",
       "      <td>1963</td>\n",
       "      <td>0</td>\n",
       "      <td>Bellevue</td>\n",
       "      <td>WA 98008</td>\n",
       "      <td>USA</td>\n",
       "    </tr>\n",
       "    <tr>\n",
       "      <th>4</th>\n",
       "      <td>2/5/2014</td>\n",
       "      <td>5.500000e+05</td>\n",
       "      <td>4</td>\n",
       "      <td>3</td>\n",
       "      <td>1940</td>\n",
       "      <td>10500</td>\n",
       "      <td>1.0</td>\n",
       "      <td>0</td>\n",
       "      <td>0</td>\n",
       "      <td>4</td>\n",
       "      <td>1140</td>\n",
       "      <td>800</td>\n",
       "      <td>1976</td>\n",
       "      <td>1992</td>\n",
       "      <td>Redmond</td>\n",
       "      <td>WA 98052</td>\n",
       "      <td>USA</td>\n",
       "    </tr>\n",
       "    <tr>\n",
       "      <th>...</th>\n",
       "      <td>...</td>\n",
       "      <td>...</td>\n",
       "      <td>...</td>\n",
       "      <td>...</td>\n",
       "      <td>...</td>\n",
       "      <td>...</td>\n",
       "      <td>...</td>\n",
       "      <td>...</td>\n",
       "      <td>...</td>\n",
       "      <td>...</td>\n",
       "      <td>...</td>\n",
       "      <td>...</td>\n",
       "      <td>...</td>\n",
       "      <td>...</td>\n",
       "      <td>...</td>\n",
       "      <td>...</td>\n",
       "      <td>...</td>\n",
       "    </tr>\n",
       "    <tr>\n",
       "      <th>4594</th>\n",
       "      <td>9/7/2014</td>\n",
       "      <td>3.081667e+05</td>\n",
       "      <td>3</td>\n",
       "      <td>2</td>\n",
       "      <td>1510</td>\n",
       "      <td>6360</td>\n",
       "      <td>1.0</td>\n",
       "      <td>0</td>\n",
       "      <td>0</td>\n",
       "      <td>4</td>\n",
       "      <td>1510</td>\n",
       "      <td>0</td>\n",
       "      <td>1954</td>\n",
       "      <td>1979</td>\n",
       "      <td>Seattle</td>\n",
       "      <td>WA 98133</td>\n",
       "      <td>USA</td>\n",
       "    </tr>\n",
       "    <tr>\n",
       "      <th>4595</th>\n",
       "      <td>9/7/2014</td>\n",
       "      <td>5.343333e+05</td>\n",
       "      <td>3</td>\n",
       "      <td>3</td>\n",
       "      <td>1460</td>\n",
       "      <td>7573</td>\n",
       "      <td>2.0</td>\n",
       "      <td>0</td>\n",
       "      <td>0</td>\n",
       "      <td>3</td>\n",
       "      <td>1460</td>\n",
       "      <td>0</td>\n",
       "      <td>1983</td>\n",
       "      <td>2009</td>\n",
       "      <td>Bellevue</td>\n",
       "      <td>WA 98007</td>\n",
       "      <td>USA</td>\n",
       "    </tr>\n",
       "    <tr>\n",
       "      <th>4596</th>\n",
       "      <td>9/7/2014</td>\n",
       "      <td>4.169042e+05</td>\n",
       "      <td>3</td>\n",
       "      <td>3</td>\n",
       "      <td>3010</td>\n",
       "      <td>7014</td>\n",
       "      <td>2.0</td>\n",
       "      <td>0</td>\n",
       "      <td>0</td>\n",
       "      <td>3</td>\n",
       "      <td>3010</td>\n",
       "      <td>0</td>\n",
       "      <td>2009</td>\n",
       "      <td>0</td>\n",
       "      <td>Renton</td>\n",
       "      <td>WA 98059</td>\n",
       "      <td>USA</td>\n",
       "    </tr>\n",
       "    <tr>\n",
       "      <th>4597</th>\n",
       "      <td>10/7/2014</td>\n",
       "      <td>2.034000e+05</td>\n",
       "      <td>4</td>\n",
       "      <td>2</td>\n",
       "      <td>2090</td>\n",
       "      <td>6630</td>\n",
       "      <td>1.0</td>\n",
       "      <td>0</td>\n",
       "      <td>0</td>\n",
       "      <td>3</td>\n",
       "      <td>1070</td>\n",
       "      <td>1020</td>\n",
       "      <td>1974</td>\n",
       "      <td>0</td>\n",
       "      <td>Seattle</td>\n",
       "      <td>WA 98178</td>\n",
       "      <td>USA</td>\n",
       "    </tr>\n",
       "    <tr>\n",
       "      <th>4598</th>\n",
       "      <td>10/7/2014</td>\n",
       "      <td>2.206000e+05</td>\n",
       "      <td>3</td>\n",
       "      <td>3</td>\n",
       "      <td>1490</td>\n",
       "      <td>8102</td>\n",
       "      <td>2.0</td>\n",
       "      <td>0</td>\n",
       "      <td>0</td>\n",
       "      <td>4</td>\n",
       "      <td>1490</td>\n",
       "      <td>0</td>\n",
       "      <td>1990</td>\n",
       "      <td>0</td>\n",
       "      <td>Covington</td>\n",
       "      <td>WA 98042</td>\n",
       "      <td>USA</td>\n",
       "    </tr>\n",
       "  </tbody>\n",
       "</table>\n",
       "<p>4599 rows × 17 columns</p>\n",
       "</div>"
      ],
      "text/plain": [
       "           Date         Price Bedrooms  Bathrooms  Sqft_Living  Sqft_Lot  \\\n",
       "0      2/5/2014  3.130000e+05        3          2         1340      7912   \n",
       "1      2/5/2014  2.384000e+06        5          3         3650      9050   \n",
       "2      2/5/2014  3.420000e+05        3          2         1930     11947   \n",
       "3      2/5/2014  4.200000e+05        3          2         2000      8030   \n",
       "4      2/5/2014  5.500000e+05        4          3         1940     10500   \n",
       "...         ...           ...      ...        ...          ...       ...   \n",
       "4594   9/7/2014  3.081667e+05        3          2         1510      6360   \n",
       "4595   9/7/2014  5.343333e+05        3          3         1460      7573   \n",
       "4596   9/7/2014  4.169042e+05        3          3         3010      7014   \n",
       "4597  10/7/2014  2.034000e+05        4          2         2090      6630   \n",
       "4598  10/7/2014  2.206000e+05        3          3         1490      8102   \n",
       "\n",
       "      Floors  Waterfront  View  Condition  Sqft_Above  Sqft_Basement  \\\n",
       "0        1.5           0     0          3        1340              0   \n",
       "1        2.0           0     4          5        3370            280   \n",
       "2        1.0           0     0          4        1930              0   \n",
       "3        1.0           0     0          4        1000           1000   \n",
       "4        1.0           0     0          4        1140            800   \n",
       "...      ...         ...   ...        ...         ...            ...   \n",
       "4594     1.0           0     0          4        1510              0   \n",
       "4595     2.0           0     0          3        1460              0   \n",
       "4596     2.0           0     0          3        3010              0   \n",
       "4597     1.0           0     0          3        1070           1020   \n",
       "4598     2.0           0     0          4        1490              0   \n",
       "\n",
       "      Yr_Built  Yr_Renovated       City  Statezip Country  \n",
       "0         1955          2005  Shoreline  WA 98133     USA  \n",
       "1         1921             0    Seattle  WA 98119     USA  \n",
       "2         1966             0       Kent  WA 98042     USA  \n",
       "3         1963             0   Bellevue  WA 98008     USA  \n",
       "4         1976          1992    Redmond  WA 98052     USA  \n",
       "...        ...           ...        ...       ...     ...  \n",
       "4594      1954          1979    Seattle  WA 98133     USA  \n",
       "4595      1983          2009   Bellevue  WA 98007     USA  \n",
       "4596      2009             0     Renton  WA 98059     USA  \n",
       "4597      1974             0    Seattle  WA 98178     USA  \n",
       "4598      1990             0  Covington  WA 98042     USA  \n",
       "\n",
       "[4599 rows x 17 columns]"
      ]
     },
     "execution_count": 142,
     "metadata": {},
     "output_type": "execute_result"
    }
   ],
   "source": [
    "df"
   ]
  },
  {
   "cell_type": "code",
   "execution_count": 143,
   "id": "162aadb4",
   "metadata": {},
   "outputs": [
    {
     "data": {
      "text/plain": [
       "0    False\n",
       "1     True\n",
       "2    False\n",
       "3     True\n",
       "4    False\n",
       "5    False\n",
       "dtype: bool"
      ]
     },
     "execution_count": 143,
     "metadata": {},
     "output_type": "execute_result"
    }
   ],
   "source": [
    "dum_vec = pd.Series([1,None,3,None,7,9])\n",
    "\n",
    "dum_vec.isnull()"
   ]
  },
  {
   "cell_type": "code",
   "execution_count": 144,
   "id": "6f7328b5",
   "metadata": {},
   "outputs": [
    {
     "data": {
      "text/plain": [
       "count    4599.000000\n",
       "mean        2.363557\n",
       "std         0.875222\n",
       "min         0.000000\n",
       "25%         2.000000\n",
       "50%         2.000000\n",
       "75%         3.000000\n",
       "max         8.000000\n",
       "Name: Bathrooms, dtype: float64"
      ]
     },
     "execution_count": 144,
     "metadata": {},
     "output_type": "execute_result"
    }
   ],
   "source": [
    "df[\"Bathrooms\"].describe()"
   ]
  },
  {
   "cell_type": "code",
   "execution_count": 145,
   "id": "a1c1de1c",
   "metadata": {},
   "outputs": [
    {
     "data": {
      "text/plain": [
       "(array([], dtype=int64),)"
      ]
     },
     "execution_count": 145,
     "metadata": {},
     "output_type": "execute_result"
    }
   ],
   "source": [
    "miss = np.where(df[\"Bathrooms\"].isnull()==True)\n",
    "miss"
   ]
  },
  {
   "cell_type": "code",
   "execution_count": 146,
   "id": "e25e4346",
   "metadata": {},
   "outputs": [
    {
     "data": {
      "text/plain": [
       "0"
      ]
     },
     "execution_count": 146,
     "metadata": {},
     "output_type": "execute_result"
    }
   ],
   "source": [
    "len(miss[0])"
   ]
  },
  {
   "cell_type": "code",
   "execution_count": 147,
   "id": "6960f230",
   "metadata": {},
   "outputs": [
    {
     "data": {
      "text/plain": [
       "array([[<AxesSubplot:title={'center':'Bathrooms'}>]], dtype=object)"
      ]
     },
     "execution_count": 147,
     "metadata": {},
     "output_type": "execute_result"
    },
    {
     "data": {
      "image/png": "[encoded data removed]",
      "text/plain": [
       "<Figure size 648x432 with 1 Axes>"
      ]
     },
     "metadata": {
      "needs_background": "light"
     },
     "output_type": "display_data"
    }
   ],
   "source": [
    "df.hist(column = \"Bathrooms\",figsize=(9,6),bins=20)"
   ]
  },
  {
   "cell_type": "code",
   "execution_count": 148,
   "id": "8988c50b",
   "metadata": {},
   "outputs": [
    {
     "data": {
      "text/plain": [
       "count    4599.000000\n",
       "mean        2.363557\n",
       "std         0.875222\n",
       "min         0.000000\n",
       "25%         2.000000\n",
       "50%         2.000000\n",
       "75%         3.000000\n",
       "max         8.000000\n",
       "Name: Bathrooms, dtype: float64"
      ]
     },
     "execution_count": 148,
     "metadata": {},
     "output_type": "execute_result"
    }
   ],
   "source": [
    "nav = np.where(df[\"Bathrooms\"].isnull(),25,df[\"Bathrooms\"])\n",
    "\n",
    "df[\"Bathrooms\"] = nav\n",
    "df[\"Bathrooms\"].describe()"
   ]
  },
  {
   "cell_type": "code",
   "execution_count": 149,
   "id": "acdab3ba",
   "metadata": {},
   "outputs": [
    {
     "data": {
      "text/plain": [
       "array([[<AxesSubplot:title={'center':'Bathrooms'}>]], dtype=object)"
      ]
     },
     "execution_count": 149,
     "metadata": {},
     "output_type": "execute_result"
    },
    {
     "data": {
      "image/png": "[encoded data removed]",
      "text/plain": [
       "<Figure size 648x432 with 1 Axes>"
      ]
     },
     "metadata": {
      "needs_background": "light"
     },
     "output_type": "display_data"
    }
   ],
   "source": [
    "df.hist(column = \"Bathrooms\",figsize=(9,6),bins=20)"
   ]
  },
  {
   "cell_type": "code",
   "execution_count": 150,
   "id": "e731fbc9",
   "metadata": {},
   "outputs": [
    {
     "data": {
      "text/plain": [
       "<AxesSubplot:>"
      ]
     },
     "execution_count": 150,
     "metadata": {},
     "output_type": "execute_result"
    },
    {
     "data": {
      "image/png": "[encoded data removed]",
      "text/plain": [
       "<Figure size 648x648 with 1 Axes>"
      ]
     },
     "metadata": {
      "needs_background": "light"
     },
     "output_type": "display_data"
    }
   ],
   "source": [
    "df[\"Floors\"].plot(kind=\"box\",figsize=(9,9))"
   ]
  },
  {
   "cell_type": "code",
   "execution_count": 151,
   "id": "0589ef73",
   "metadata": {},
   "outputs": [
    {
     "data": {
      "text/html": [
       "<div>\n",
       "<style scoped>\n",
       "    .dataframe tbody tr th:only-of-type {\n",
       "        vertical-align: middle;\n",
       "    }\n",
       "\n",
       "    .dataframe tbody tr th {\n",
       "        vertical-align: top;\n",
       "    }\n",
       "\n",
       "    .dataframe thead th {\n",
       "        text-align: right;\n",
       "    }\n",
       "</style>\n",
       "<table border=\"1\" class=\"dataframe\">\n",
       "  <thead>\n",
       "    <tr style=\"text-align: right;\">\n",
       "      <th></th>\n",
       "      <th>Date</th>\n",
       "      <th>Price</th>\n",
       "      <th>Bedrooms</th>\n",
       "      <th>Bathrooms</th>\n",
       "      <th>Sqft_Living</th>\n",
       "      <th>Sqft_Lot</th>\n",
       "      <th>Floors</th>\n",
       "      <th>Waterfront</th>\n",
       "      <th>View</th>\n",
       "      <th>Condition</th>\n",
       "      <th>Sqft_Above</th>\n",
       "      <th>Sqft_Basement</th>\n",
       "      <th>Yr_Built</th>\n",
       "      <th>Yr_Renovated</th>\n",
       "      <th>City</th>\n",
       "      <th>Statezip</th>\n",
       "      <th>Country</th>\n",
       "    </tr>\n",
       "  </thead>\n",
       "  <tbody>\n",
       "    <tr>\n",
       "      <th>2364</th>\n",
       "      <td>12/6/2014</td>\n",
       "      <td>1095000.0</td>\n",
       "      <td>0</td>\n",
       "      <td>0</td>\n",
       "      <td>3064</td>\n",
       "      <td>4764</td>\n",
       "      <td>3.5</td>\n",
       "      <td>0</td>\n",
       "      <td>2</td>\n",
       "      <td>3</td>\n",
       "      <td>3064</td>\n",
       "      <td>0</td>\n",
       "      <td>1990</td>\n",
       "      <td>2009</td>\n",
       "      <td>Seattle</td>\n",
       "      <td>WA 98102</td>\n",
       "      <td>USA</td>\n",
       "    </tr>\n",
       "    <tr>\n",
       "      <th>3397</th>\n",
       "      <td>25/6/2014</td>\n",
       "      <td>563500.0</td>\n",
       "      <td>3</td>\n",
       "      <td>3</td>\n",
       "      <td>1400</td>\n",
       "      <td>1312</td>\n",
       "      <td>3.5</td>\n",
       "      <td>0</td>\n",
       "      <td>0</td>\n",
       "      <td>3</td>\n",
       "      <td>1400</td>\n",
       "      <td>0</td>\n",
       "      <td>2007</td>\n",
       "      <td>0</td>\n",
       "      <td>Seattle</td>\n",
       "      <td>WA 98103</td>\n",
       "      <td>USA</td>\n",
       "    </tr>\n",
       "  </tbody>\n",
       "</table>\n",
       "</div>"
      ],
      "text/plain": [
       "           Date      Price Bedrooms  Bathrooms  Sqft_Living  Sqft_Lot  Floors  \\\n",
       "2364  12/6/2014  1095000.0        0          0         3064      4764     3.5   \n",
       "3397  25/6/2014   563500.0        3          3         1400      1312     3.5   \n",
       "\n",
       "      Waterfront  View  Condition  Sqft_Above  Sqft_Basement  Yr_Built  \\\n",
       "2364           0     2          3        3064              0      1990   \n",
       "3397           0     0          3        1400              0      2007   \n",
       "\n",
       "      Yr_Renovated     City  Statezip Country  \n",
       "2364          2009  Seattle  WA 98102     USA  \n",
       "3397             0  Seattle  WA 98103     USA  "
      ]
     },
     "execution_count": 151,
     "metadata": {},
     "output_type": "execute_result"
    }
   ],
   "source": [
    "index = np.where(df[\"Floors\"] == max(df[\"Floors\"]) )\n",
    "\n",
    "df.loc[index]"
   ]
  },
  {
   "cell_type": "code",
   "execution_count": 152,
   "id": "8d22e329",
   "metadata": {},
   "outputs": [],
   "source": [
    "df[\"Sqft_Lot\"] = df[\"Sqft_Living\"] + df[\"Sqft_Basement\"]"
   ]
  },
  {
   "cell_type": "code",
   "execution_count": 153,
   "id": "16e29f8d",
   "metadata": {},
   "outputs": [
    {
     "data": {
      "text/html": [
       "<div>\n",
       "<style scoped>\n",
       "    .dataframe tbody tr th:only-of-type {\n",
       "        vertical-align: middle;\n",
       "    }\n",
       "\n",
       "    .dataframe tbody tr th {\n",
       "        vertical-align: top;\n",
       "    }\n",
       "\n",
       "    .dataframe thead th {\n",
       "        text-align: right;\n",
       "    }\n",
       "</style>\n",
       "<table border=\"1\" class=\"dataframe\">\n",
       "  <thead>\n",
       "    <tr style=\"text-align: right;\">\n",
       "      <th></th>\n",
       "      <th>Date</th>\n",
       "      <th>Price</th>\n",
       "      <th>Bedrooms</th>\n",
       "      <th>Bathrooms</th>\n",
       "      <th>Sqft_Living</th>\n",
       "      <th>Sqft_Lot</th>\n",
       "      <th>Floors</th>\n",
       "      <th>Waterfront</th>\n",
       "      <th>View</th>\n",
       "      <th>Condition</th>\n",
       "      <th>Sqft_Above</th>\n",
       "      <th>Sqft_Basement</th>\n",
       "      <th>Yr_Built</th>\n",
       "      <th>Yr_Renovated</th>\n",
       "      <th>City</th>\n",
       "      <th>Statezip</th>\n",
       "      <th>Country</th>\n",
       "    </tr>\n",
       "  </thead>\n",
       "  <tbody>\n",
       "    <tr>\n",
       "      <th>122</th>\n",
       "      <td>5/5/2014</td>\n",
       "      <td>2280000.0</td>\n",
       "      <td>7</td>\n",
       "      <td>8</td>\n",
       "      <td>13540</td>\n",
       "      <td>17670</td>\n",
       "      <td>3.0</td>\n",
       "      <td>0</td>\n",
       "      <td>4</td>\n",
       "      <td>3</td>\n",
       "      <td>9410</td>\n",
       "      <td>4130</td>\n",
       "      <td>1999</td>\n",
       "      <td>0</td>\n",
       "      <td>Redmond</td>\n",
       "      <td>WA 98053</td>\n",
       "      <td>USA</td>\n",
       "    </tr>\n",
       "  </tbody>\n",
       "</table>\n",
       "</div>"
      ],
      "text/plain": [
       "         Date      Price Bedrooms  Bathrooms  Sqft_Living  Sqft_Lot  Floors  \\\n",
       "122  5/5/2014  2280000.0        7          8        13540     17670     3.0   \n",
       "\n",
       "     Waterfront  View  Condition  Sqft_Above  Sqft_Basement  Yr_Built  \\\n",
       "122           0     4          3        9410           4130      1999   \n",
       "\n",
       "     Yr_Renovated     City  Statezip Country  \n",
       "122             0  Redmond  WA 98053     USA  "
      ]
     },
     "execution_count": 153,
     "metadata": {},
     "output_type": "execute_result"
    }
   ],
   "source": [
    "most_Sqft_Lot = np.where(df[\"Sqft_Lot\"] == max(df[\"Sqft_Lot\"]))\n",
    "\n",
    "df.loc[most_Sqft_Lot]"
   ]
  },
  {
   "cell_type": "code",
   "execution_count": 154,
   "id": "e5d7627e",
   "metadata": {},
   "outputs": [
    {
     "data": {
      "text/html": [
       "<div>\n",
       "<style scoped>\n",
       "    .dataframe tbody tr th:only-of-type {\n",
       "        vertical-align: middle;\n",
       "    }\n",
       "\n",
       "    .dataframe tbody tr th {\n",
       "        vertical-align: top;\n",
       "    }\n",
       "\n",
       "    .dataframe thead th {\n",
       "        text-align: right;\n",
       "    }\n",
       "</style>\n",
       "<table border=\"1\" class=\"dataframe\">\n",
       "  <thead>\n",
       "    <tr style=\"text-align: right;\">\n",
       "      <th></th>\n",
       "      <th>Date</th>\n",
       "      <th>Price</th>\n",
       "      <th>Bedrooms</th>\n",
       "      <th>Bathrooms</th>\n",
       "      <th>Sqft_Living</th>\n",
       "      <th>Sqft_Lot</th>\n",
       "      <th>Floors</th>\n",
       "      <th>Waterfront</th>\n",
       "      <th>View</th>\n",
       "      <th>Condition</th>\n",
       "      <th>Sqft_Above</th>\n",
       "      <th>Sqft_Basement</th>\n",
       "      <th>Yr_Built</th>\n",
       "      <th>Yr_Renovated</th>\n",
       "      <th>City</th>\n",
       "      <th>Statezip</th>\n",
       "      <th>Country</th>\n",
       "    </tr>\n",
       "  </thead>\n",
       "  <tbody>\n",
       "    <tr>\n",
       "      <th>0</th>\n",
       "      <td>2/5/2014</td>\n",
       "      <td>3.130000e+05</td>\n",
       "      <td>3</td>\n",
       "      <td>2</td>\n",
       "      <td>1340</td>\n",
       "      <td>1340</td>\n",
       "      <td>1.5</td>\n",
       "      <td>0</td>\n",
       "      <td>0</td>\n",
       "      <td>3</td>\n",
       "      <td>1340</td>\n",
       "      <td>0</td>\n",
       "      <td>1955</td>\n",
       "      <td>2005</td>\n",
       "      <td>Shoreline</td>\n",
       "      <td>WA 98133</td>\n",
       "      <td>USA</td>\n",
       "    </tr>\n",
       "    <tr>\n",
       "      <th>1</th>\n",
       "      <td>2/5/2014</td>\n",
       "      <td>2.384000e+06</td>\n",
       "      <td>5</td>\n",
       "      <td>3</td>\n",
       "      <td>3650</td>\n",
       "      <td>3930</td>\n",
       "      <td>2.0</td>\n",
       "      <td>0</td>\n",
       "      <td>4</td>\n",
       "      <td>5</td>\n",
       "      <td>3370</td>\n",
       "      <td>280</td>\n",
       "      <td>1921</td>\n",
       "      <td>0</td>\n",
       "      <td>Seattle</td>\n",
       "      <td>WA 98119</td>\n",
       "      <td>USA</td>\n",
       "    </tr>\n",
       "    <tr>\n",
       "      <th>2</th>\n",
       "      <td>2/5/2014</td>\n",
       "      <td>3.420000e+05</td>\n",
       "      <td>3</td>\n",
       "      <td>2</td>\n",
       "      <td>1930</td>\n",
       "      <td>1930</td>\n",
       "      <td>1.0</td>\n",
       "      <td>0</td>\n",
       "      <td>0</td>\n",
       "      <td>4</td>\n",
       "      <td>1930</td>\n",
       "      <td>0</td>\n",
       "      <td>1966</td>\n",
       "      <td>0</td>\n",
       "      <td>Kent</td>\n",
       "      <td>WA 98042</td>\n",
       "      <td>USA</td>\n",
       "    </tr>\n",
       "    <tr>\n",
       "      <th>3</th>\n",
       "      <td>2/5/2014</td>\n",
       "      <td>4.200000e+05</td>\n",
       "      <td>3</td>\n",
       "      <td>2</td>\n",
       "      <td>2000</td>\n",
       "      <td>3000</td>\n",
       "      <td>1.0</td>\n",
       "      <td>0</td>\n",
       "      <td>0</td>\n",
       "      <td>4</td>\n",
       "      <td>1000</td>\n",
       "      <td>1000</td>\n",
       "      <td>1963</td>\n",
       "      <td>0</td>\n",
       "      <td>Bellevue</td>\n",
       "      <td>WA 98008</td>\n",
       "      <td>USA</td>\n",
       "    </tr>\n",
       "    <tr>\n",
       "      <th>4</th>\n",
       "      <td>2/5/2014</td>\n",
       "      <td>5.500000e+05</td>\n",
       "      <td>4</td>\n",
       "      <td>3</td>\n",
       "      <td>1940</td>\n",
       "      <td>2740</td>\n",
       "      <td>1.0</td>\n",
       "      <td>0</td>\n",
       "      <td>0</td>\n",
       "      <td>4</td>\n",
       "      <td>1140</td>\n",
       "      <td>800</td>\n",
       "      <td>1976</td>\n",
       "      <td>1992</td>\n",
       "      <td>Redmond</td>\n",
       "      <td>WA 98052</td>\n",
       "      <td>USA</td>\n",
       "    </tr>\n",
       "    <tr>\n",
       "      <th>...</th>\n",
       "      <td>...</td>\n",
       "      <td>...</td>\n",
       "      <td>...</td>\n",
       "      <td>...</td>\n",
       "      <td>...</td>\n",
       "      <td>...</td>\n",
       "      <td>...</td>\n",
       "      <td>...</td>\n",
       "      <td>...</td>\n",
       "      <td>...</td>\n",
       "      <td>...</td>\n",
       "      <td>...</td>\n",
       "      <td>...</td>\n",
       "      <td>...</td>\n",
       "      <td>...</td>\n",
       "      <td>...</td>\n",
       "      <td>...</td>\n",
       "    </tr>\n",
       "    <tr>\n",
       "      <th>4594</th>\n",
       "      <td>9/7/2014</td>\n",
       "      <td>3.081667e+05</td>\n",
       "      <td>3</td>\n",
       "      <td>2</td>\n",
       "      <td>1510</td>\n",
       "      <td>1510</td>\n",
       "      <td>1.0</td>\n",
       "      <td>0</td>\n",
       "      <td>0</td>\n",
       "      <td>4</td>\n",
       "      <td>1510</td>\n",
       "      <td>0</td>\n",
       "      <td>1954</td>\n",
       "      <td>1979</td>\n",
       "      <td>Seattle</td>\n",
       "      <td>WA 98133</td>\n",
       "      <td>USA</td>\n",
       "    </tr>\n",
       "    <tr>\n",
       "      <th>4595</th>\n",
       "      <td>9/7/2014</td>\n",
       "      <td>5.343333e+05</td>\n",
       "      <td>3</td>\n",
       "      <td>3</td>\n",
       "      <td>1460</td>\n",
       "      <td>1460</td>\n",
       "      <td>2.0</td>\n",
       "      <td>0</td>\n",
       "      <td>0</td>\n",
       "      <td>3</td>\n",
       "      <td>1460</td>\n",
       "      <td>0</td>\n",
       "      <td>1983</td>\n",
       "      <td>2009</td>\n",
       "      <td>Bellevue</td>\n",
       "      <td>WA 98007</td>\n",
       "      <td>USA</td>\n",
       "    </tr>\n",
       "    <tr>\n",
       "      <th>4596</th>\n",
       "      <td>9/7/2014</td>\n",
       "      <td>4.169042e+05</td>\n",
       "      <td>3</td>\n",
       "      <td>3</td>\n",
       "      <td>3010</td>\n",
       "      <td>3010</td>\n",
       "      <td>2.0</td>\n",
       "      <td>0</td>\n",
       "      <td>0</td>\n",
       "      <td>3</td>\n",
       "      <td>3010</td>\n",
       "      <td>0</td>\n",
       "      <td>2009</td>\n",
       "      <td>0</td>\n",
       "      <td>Renton</td>\n",
       "      <td>WA 98059</td>\n",
       "      <td>USA</td>\n",
       "    </tr>\n",
       "    <tr>\n",
       "      <th>4597</th>\n",
       "      <td>10/7/2014</td>\n",
       "      <td>2.034000e+05</td>\n",
       "      <td>4</td>\n",
       "      <td>2</td>\n",
       "      <td>2090</td>\n",
       "      <td>3110</td>\n",
       "      <td>1.0</td>\n",
       "      <td>0</td>\n",
       "      <td>0</td>\n",
       "      <td>3</td>\n",
       "      <td>1070</td>\n",
       "      <td>1020</td>\n",
       "      <td>1974</td>\n",
       "      <td>0</td>\n",
       "      <td>Seattle</td>\n",
       "      <td>WA 98178</td>\n",
       "      <td>USA</td>\n",
       "    </tr>\n",
       "    <tr>\n",
       "      <th>4598</th>\n",
       "      <td>10/7/2014</td>\n",
       "      <td>2.206000e+05</td>\n",
       "      <td>3</td>\n",
       "      <td>3</td>\n",
       "      <td>1490</td>\n",
       "      <td>1490</td>\n",
       "      <td>2.0</td>\n",
       "      <td>0</td>\n",
       "      <td>0</td>\n",
       "      <td>4</td>\n",
       "      <td>1490</td>\n",
       "      <td>0</td>\n",
       "      <td>1990</td>\n",
       "      <td>0</td>\n",
       "      <td>Covington</td>\n",
       "      <td>WA 98042</td>\n",
       "      <td>USA</td>\n",
       "    </tr>\n",
       "  </tbody>\n",
       "</table>\n",
       "<p>4599 rows × 17 columns</p>\n",
       "</div>"
      ],
      "text/plain": [
       "           Date         Price Bedrooms  Bathrooms  Sqft_Living  Sqft_Lot  \\\n",
       "0      2/5/2014  3.130000e+05        3          2         1340      1340   \n",
       "1      2/5/2014  2.384000e+06        5          3         3650      3930   \n",
       "2      2/5/2014  3.420000e+05        3          2         1930      1930   \n",
       "3      2/5/2014  4.200000e+05        3          2         2000      3000   \n",
       "4      2/5/2014  5.500000e+05        4          3         1940      2740   \n",
       "...         ...           ...      ...        ...          ...       ...   \n",
       "4594   9/7/2014  3.081667e+05        3          2         1510      1510   \n",
       "4595   9/7/2014  5.343333e+05        3          3         1460      1460   \n",
       "4596   9/7/2014  4.169042e+05        3          3         3010      3010   \n",
       "4597  10/7/2014  2.034000e+05        4          2         2090      3110   \n",
       "4598  10/7/2014  2.206000e+05        3          3         1490      1490   \n",
       "\n",
       "      Floors  Waterfront  View  Condition  Sqft_Above  Sqft_Basement  \\\n",
       "0        1.5           0     0          3        1340              0   \n",
       "1        2.0           0     4          5        3370            280   \n",
       "2        1.0           0     0          4        1930              0   \n",
       "3        1.0           0     0          4        1000           1000   \n",
       "4        1.0           0     0          4        1140            800   \n",
       "...      ...         ...   ...        ...         ...            ...   \n",
       "4594     1.0           0     0          4        1510              0   \n",
       "4595     2.0           0     0          3        1460              0   \n",
       "4596     2.0           0     0          3        3010              0   \n",
       "4597     1.0           0     0          3        1070           1020   \n",
       "4598     2.0           0     0          4        1490              0   \n",
       "\n",
       "      Yr_Built  Yr_Renovated       City  Statezip Country  \n",
       "0         1955          2005  Shoreline  WA 98133     USA  \n",
       "1         1921             0    Seattle  WA 98119     USA  \n",
       "2         1966             0       Kent  WA 98042     USA  \n",
       "3         1963             0   Bellevue  WA 98008     USA  \n",
       "4         1976          1992    Redmond  WA 98052     USA  \n",
       "...        ...           ...        ...       ...     ...  \n",
       "4594      1954          1979    Seattle  WA 98133     USA  \n",
       "4595      1983          2009   Bellevue  WA 98007     USA  \n",
       "4596      2009             0     Renton  WA 98059     USA  \n",
       "4597      1974             0    Seattle  WA 98178     USA  \n",
       "4598      1990             0  Covington  WA 98042     USA  \n",
       "\n",
       "[4599 rows x 17 columns]"
      ]
     },
     "execution_count": 154,
     "metadata": {},
     "output_type": "execute_result"
    }
   ],
   "source": [
    "df"
   ]
  },
  {
   "cell_type": "code",
   "execution_count": 155,
   "id": "f5761eca",
   "metadata": {},
   "outputs": [],
   "source": [
    "del df[\"Date\"]"
   ]
  },
  {
   "cell_type": "code",
   "execution_count": 156,
   "id": "70d0f809",
   "metadata": {},
   "outputs": [],
   "source": [
    "del df[\"City\"]"
   ]
  },
  {
   "cell_type": "code",
   "execution_count": 157,
   "id": "7a4211c2",
   "metadata": {},
   "outputs": [],
   "source": [
    "del df[\"Statezip\"]"
   ]
  },
  {
   "cell_type": "code",
   "execution_count": 159,
   "id": "38e53e99",
   "metadata": {},
   "outputs": [],
   "source": [
    "del df[\"Country\"]"
   ]
  },
  {
   "cell_type": "code",
   "execution_count": 160,
   "id": "deef01cb",
   "metadata": {},
   "outputs": [
    {
     "data": {
      "text/html": [
       "<div>\n",
       "<style scoped>\n",
       "    .dataframe tbody tr th:only-of-type {\n",
       "        vertical-align: middle;\n",
       "    }\n",
       "\n",
       "    .dataframe tbody tr th {\n",
       "        vertical-align: top;\n",
       "    }\n",
       "\n",
       "    .dataframe thead th {\n",
       "        text-align: right;\n",
       "    }\n",
       "</style>\n",
       "<table border=\"1\" class=\"dataframe\">\n",
       "  <thead>\n",
       "    <tr style=\"text-align: right;\">\n",
       "      <th></th>\n",
       "      <th>Price</th>\n",
       "      <th>Bedrooms</th>\n",
       "      <th>Bathrooms</th>\n",
       "      <th>Sqft_Living</th>\n",
       "      <th>Sqft_Lot</th>\n",
       "      <th>Floors</th>\n",
       "      <th>Waterfront</th>\n",
       "      <th>View</th>\n",
       "      <th>Condition</th>\n",
       "      <th>Sqft_Above</th>\n",
       "      <th>Sqft_Basement</th>\n",
       "      <th>Yr_Built</th>\n",
       "      <th>Yr_Renovated</th>\n",
       "    </tr>\n",
       "  </thead>\n",
       "  <tbody>\n",
       "    <tr>\n",
       "      <th>0</th>\n",
       "      <td>3.130000e+05</td>\n",
       "      <td>3</td>\n",
       "      <td>2</td>\n",
       "      <td>1340</td>\n",
       "      <td>1340</td>\n",
       "      <td>1.5</td>\n",
       "      <td>0</td>\n",
       "      <td>0</td>\n",
       "      <td>3</td>\n",
       "      <td>1340</td>\n",
       "      <td>0</td>\n",
       "      <td>1955</td>\n",
       "      <td>2005</td>\n",
       "    </tr>\n",
       "    <tr>\n",
       "      <th>1</th>\n",
       "      <td>2.384000e+06</td>\n",
       "      <td>5</td>\n",
       "      <td>3</td>\n",
       "      <td>3650</td>\n",
       "      <td>3930</td>\n",
       "      <td>2.0</td>\n",
       "      <td>0</td>\n",
       "      <td>4</td>\n",
       "      <td>5</td>\n",
       "      <td>3370</td>\n",
       "      <td>280</td>\n",
       "      <td>1921</td>\n",
       "      <td>0</td>\n",
       "    </tr>\n",
       "    <tr>\n",
       "      <th>2</th>\n",
       "      <td>3.420000e+05</td>\n",
       "      <td>3</td>\n",
       "      <td>2</td>\n",
       "      <td>1930</td>\n",
       "      <td>1930</td>\n",
       "      <td>1.0</td>\n",
       "      <td>0</td>\n",
       "      <td>0</td>\n",
       "      <td>4</td>\n",
       "      <td>1930</td>\n",
       "      <td>0</td>\n",
       "      <td>1966</td>\n",
       "      <td>0</td>\n",
       "    </tr>\n",
       "    <tr>\n",
       "      <th>3</th>\n",
       "      <td>4.200000e+05</td>\n",
       "      <td>3</td>\n",
       "      <td>2</td>\n",
       "      <td>2000</td>\n",
       "      <td>3000</td>\n",
       "      <td>1.0</td>\n",
       "      <td>0</td>\n",
       "      <td>0</td>\n",
       "      <td>4</td>\n",
       "      <td>1000</td>\n",
       "      <td>1000</td>\n",
       "      <td>1963</td>\n",
       "      <td>0</td>\n",
       "    </tr>\n",
       "    <tr>\n",
       "      <th>4</th>\n",
       "      <td>5.500000e+05</td>\n",
       "      <td>4</td>\n",
       "      <td>3</td>\n",
       "      <td>1940</td>\n",
       "      <td>2740</td>\n",
       "      <td>1.0</td>\n",
       "      <td>0</td>\n",
       "      <td>0</td>\n",
       "      <td>4</td>\n",
       "      <td>1140</td>\n",
       "      <td>800</td>\n",
       "      <td>1976</td>\n",
       "      <td>1992</td>\n",
       "    </tr>\n",
       "    <tr>\n",
       "      <th>...</th>\n",
       "      <td>...</td>\n",
       "      <td>...</td>\n",
       "      <td>...</td>\n",
       "      <td>...</td>\n",
       "      <td>...</td>\n",
       "      <td>...</td>\n",
       "      <td>...</td>\n",
       "      <td>...</td>\n",
       "      <td>...</td>\n",
       "      <td>...</td>\n",
       "      <td>...</td>\n",
       "      <td>...</td>\n",
       "      <td>...</td>\n",
       "    </tr>\n",
       "    <tr>\n",
       "      <th>4594</th>\n",
       "      <td>3.081667e+05</td>\n",
       "      <td>3</td>\n",
       "      <td>2</td>\n",
       "      <td>1510</td>\n",
       "      <td>1510</td>\n",
       "      <td>1.0</td>\n",
       "      <td>0</td>\n",
       "      <td>0</td>\n",
       "      <td>4</td>\n",
       "      <td>1510</td>\n",
       "      <td>0</td>\n",
       "      <td>1954</td>\n",
       "      <td>1979</td>\n",
       "    </tr>\n",
       "    <tr>\n",
       "      <th>4595</th>\n",
       "      <td>5.343333e+05</td>\n",
       "      <td>3</td>\n",
       "      <td>3</td>\n",
       "      <td>1460</td>\n",
       "      <td>1460</td>\n",
       "      <td>2.0</td>\n",
       "      <td>0</td>\n",
       "      <td>0</td>\n",
       "      <td>3</td>\n",
       "      <td>1460</td>\n",
       "      <td>0</td>\n",
       "      <td>1983</td>\n",
       "      <td>2009</td>\n",
       "    </tr>\n",
       "    <tr>\n",
       "      <th>4596</th>\n",
       "      <td>4.169042e+05</td>\n",
       "      <td>3</td>\n",
       "      <td>3</td>\n",
       "      <td>3010</td>\n",
       "      <td>3010</td>\n",
       "      <td>2.0</td>\n",
       "      <td>0</td>\n",
       "      <td>0</td>\n",
       "      <td>3</td>\n",
       "      <td>3010</td>\n",
       "      <td>0</td>\n",
       "      <td>2009</td>\n",
       "      <td>0</td>\n",
       "    </tr>\n",
       "    <tr>\n",
       "      <th>4597</th>\n",
       "      <td>2.034000e+05</td>\n",
       "      <td>4</td>\n",
       "      <td>2</td>\n",
       "      <td>2090</td>\n",
       "      <td>3110</td>\n",
       "      <td>1.0</td>\n",
       "      <td>0</td>\n",
       "      <td>0</td>\n",
       "      <td>3</td>\n",
       "      <td>1070</td>\n",
       "      <td>1020</td>\n",
       "      <td>1974</td>\n",
       "      <td>0</td>\n",
       "    </tr>\n",
       "    <tr>\n",
       "      <th>4598</th>\n",
       "      <td>2.206000e+05</td>\n",
       "      <td>3</td>\n",
       "      <td>3</td>\n",
       "      <td>1490</td>\n",
       "      <td>1490</td>\n",
       "      <td>2.0</td>\n",
       "      <td>0</td>\n",
       "      <td>0</td>\n",
       "      <td>4</td>\n",
       "      <td>1490</td>\n",
       "      <td>0</td>\n",
       "      <td>1990</td>\n",
       "      <td>0</td>\n",
       "    </tr>\n",
       "  </tbody>\n",
       "</table>\n",
       "<p>4599 rows × 13 columns</p>\n",
       "</div>"
      ],
      "text/plain": [
       "             Price Bedrooms  Bathrooms  Sqft_Living  Sqft_Lot  Floors  \\\n",
       "0     3.130000e+05        3          2         1340      1340     1.5   \n",
       "1     2.384000e+06        5          3         3650      3930     2.0   \n",
       "2     3.420000e+05        3          2         1930      1930     1.0   \n",
       "3     4.200000e+05        3          2         2000      3000     1.0   \n",
       "4     5.500000e+05        4          3         1940      2740     1.0   \n",
       "...            ...      ...        ...          ...       ...     ...   \n",
       "4594  3.081667e+05        3          2         1510      1510     1.0   \n",
       "4595  5.343333e+05        3          3         1460      1460     2.0   \n",
       "4596  4.169042e+05        3          3         3010      3010     2.0   \n",
       "4597  2.034000e+05        4          2         2090      3110     1.0   \n",
       "4598  2.206000e+05        3          3         1490      1490     2.0   \n",
       "\n",
       "      Waterfront  View  Condition  Sqft_Above  Sqft_Basement  Yr_Built  \\\n",
       "0              0     0          3        1340              0      1955   \n",
       "1              0     4          5        3370            280      1921   \n",
       "2              0     0          4        1930              0      1966   \n",
       "3              0     0          4        1000           1000      1963   \n",
       "4              0     0          4        1140            800      1976   \n",
       "...          ...   ...        ...         ...            ...       ...   \n",
       "4594           0     0          4        1510              0      1954   \n",
       "4595           0     0          3        1460              0      1983   \n",
       "4596           0     0          3        3010              0      2009   \n",
       "4597           0     0          3        1070           1020      1974   \n",
       "4598           0     0          4        1490              0      1990   \n",
       "\n",
       "      Yr_Renovated  \n",
       "0             2005  \n",
       "1                0  \n",
       "2                0  \n",
       "3                0  \n",
       "4             1992  \n",
       "...            ...  \n",
       "4594          1979  \n",
       "4595          2009  \n",
       "4596             0  \n",
       "4597             0  \n",
       "4598             0  \n",
       "\n",
       "[4599 rows x 13 columns]"
      ]
     },
     "execution_count": 160,
     "metadata": {},
     "output_type": "execute_result"
    }
   ],
   "source": [
    "df"
   ]
  },
  {
   "cell_type": "code",
   "execution_count": 161,
   "id": "8e135eb4",
   "metadata": {},
   "outputs": [],
   "source": [
    "import pandas as pd\n",
    "import matplotlib.pyplot as plt\n",
    "import seaborn as sns\n",
    "from sklearn.preprocessing import PolynomialFeatures\n",
    "from sklearn.model_selection import train_test_split\n",
    "from sklearn.linear_model import LinearRegression\n",
    "from sklearn.linear_model import Lasso\n",
    "from sklearn import metrics"
   ]
  },
  {
   "cell_type": "markdown",
   "id": "22ccb97a",
   "metadata": {},
   "source": [
    "Data Collection and Preprocessing"
   ]
  },
  {
   "cell_type": "code",
   "execution_count": 162,
   "id": "b0f0645f",
   "metadata": {},
   "outputs": [
    {
     "data": {
      "text/html": [
       "<div>\n",
       "<style scoped>\n",
       "    .dataframe tbody tr th:only-of-type {\n",
       "        vertical-align: middle;\n",
       "    }\n",
       "\n",
       "    .dataframe tbody tr th {\n",
       "        vertical-align: top;\n",
       "    }\n",
       "\n",
       "    .dataframe thead th {\n",
       "        text-align: right;\n",
       "    }\n",
       "</style>\n",
       "<table border=\"1\" class=\"dataframe\">\n",
       "  <thead>\n",
       "    <tr style=\"text-align: right;\">\n",
       "      <th></th>\n",
       "      <th>Price</th>\n",
       "      <th>Bedrooms</th>\n",
       "      <th>Bathrooms</th>\n",
       "      <th>Sqft_Living</th>\n",
       "      <th>Sqft_Lot</th>\n",
       "      <th>Floors</th>\n",
       "      <th>Waterfront</th>\n",
       "      <th>View</th>\n",
       "      <th>Condition</th>\n",
       "      <th>Sqft_Above</th>\n",
       "      <th>Sqft_Basement</th>\n",
       "      <th>Yr_Built</th>\n",
       "      <th>Yr_Renovated</th>\n",
       "    </tr>\n",
       "  </thead>\n",
       "  <tbody>\n",
       "    <tr>\n",
       "      <th>0</th>\n",
       "      <td>313000.0</td>\n",
       "      <td>3</td>\n",
       "      <td>2</td>\n",
       "      <td>1340</td>\n",
       "      <td>1340</td>\n",
       "      <td>1.5</td>\n",
       "      <td>0</td>\n",
       "      <td>0</td>\n",
       "      <td>3</td>\n",
       "      <td>1340</td>\n",
       "      <td>0</td>\n",
       "      <td>1955</td>\n",
       "      <td>2005</td>\n",
       "    </tr>\n",
       "    <tr>\n",
       "      <th>1</th>\n",
       "      <td>2384000.0</td>\n",
       "      <td>5</td>\n",
       "      <td>3</td>\n",
       "      <td>3650</td>\n",
       "      <td>3930</td>\n",
       "      <td>2.0</td>\n",
       "      <td>0</td>\n",
       "      <td>4</td>\n",
       "      <td>5</td>\n",
       "      <td>3370</td>\n",
       "      <td>280</td>\n",
       "      <td>1921</td>\n",
       "      <td>0</td>\n",
       "    </tr>\n",
       "    <tr>\n",
       "      <th>2</th>\n",
       "      <td>342000.0</td>\n",
       "      <td>3</td>\n",
       "      <td>2</td>\n",
       "      <td>1930</td>\n",
       "      <td>1930</td>\n",
       "      <td>1.0</td>\n",
       "      <td>0</td>\n",
       "      <td>0</td>\n",
       "      <td>4</td>\n",
       "      <td>1930</td>\n",
       "      <td>0</td>\n",
       "      <td>1966</td>\n",
       "      <td>0</td>\n",
       "    </tr>\n",
       "    <tr>\n",
       "      <th>3</th>\n",
       "      <td>420000.0</td>\n",
       "      <td>3</td>\n",
       "      <td>2</td>\n",
       "      <td>2000</td>\n",
       "      <td>3000</td>\n",
       "      <td>1.0</td>\n",
       "      <td>0</td>\n",
       "      <td>0</td>\n",
       "      <td>4</td>\n",
       "      <td>1000</td>\n",
       "      <td>1000</td>\n",
       "      <td>1963</td>\n",
       "      <td>0</td>\n",
       "    </tr>\n",
       "    <tr>\n",
       "      <th>4</th>\n",
       "      <td>550000.0</td>\n",
       "      <td>4</td>\n",
       "      <td>3</td>\n",
       "      <td>1940</td>\n",
       "      <td>2740</td>\n",
       "      <td>1.0</td>\n",
       "      <td>0</td>\n",
       "      <td>0</td>\n",
       "      <td>4</td>\n",
       "      <td>1140</td>\n",
       "      <td>800</td>\n",
       "      <td>1976</td>\n",
       "      <td>1992</td>\n",
       "    </tr>\n",
       "  </tbody>\n",
       "</table>\n",
       "</div>"
      ],
      "text/plain": [
       "       Price Bedrooms  Bathrooms  Sqft_Living  Sqft_Lot  Floors  Waterfront  \\\n",
       "0   313000.0        3          2         1340      1340     1.5           0   \n",
       "1  2384000.0        5          3         3650      3930     2.0           0   \n",
       "2   342000.0        3          2         1930      1930     1.0           0   \n",
       "3   420000.0        3          2         2000      3000     1.0           0   \n",
       "4   550000.0        4          3         1940      2740     1.0           0   \n",
       "\n",
       "   View  Condition  Sqft_Above  Sqft_Basement  Yr_Built  Yr_Renovated  \n",
       "0     0          3        1340              0      1955          2005  \n",
       "1     4          5        3370            280      1921             0  \n",
       "2     0          4        1930              0      1966             0  \n",
       "3     0          4        1000           1000      1963             0  \n",
       "4     0          4        1140            800      1976          1992  "
      ]
     },
     "execution_count": 162,
     "metadata": {},
     "output_type": "execute_result"
    }
   ],
   "source": [
    "df.head()"
   ]
  },
  {
   "cell_type": "code",
   "execution_count": 163,
   "id": "e0622ca9",
   "metadata": {},
   "outputs": [
    {
     "data": {
      "text/plain": [
       "<bound method DataFrame.info of              Price Bedrooms  Bathrooms  Sqft_Living  Sqft_Lot  Floors  \\\n",
       "0     3.130000e+05        3          2         1340      1340     1.5   \n",
       "1     2.384000e+06        5          3         3650      3930     2.0   \n",
       "2     3.420000e+05        3          2         1930      1930     1.0   \n",
       "3     4.200000e+05        3          2         2000      3000     1.0   \n",
       "4     5.500000e+05        4          3         1940      2740     1.0   \n",
       "...            ...      ...        ...          ...       ...     ...   \n",
       "4594  3.081667e+05        3          2         1510      1510     1.0   \n",
       "4595  5.343333e+05        3          3         1460      1460     2.0   \n",
       "4596  4.169042e+05        3          3         3010      3010     2.0   \n",
       "4597  2.034000e+05        4          2         2090      3110     1.0   \n",
       "4598  2.206000e+05        3          3         1490      1490     2.0   \n",
       "\n",
       "      Waterfront  View  Condition  Sqft_Above  Sqft_Basement  Yr_Built  \\\n",
       "0              0     0          3        1340              0      1955   \n",
       "1              0     4          5        3370            280      1921   \n",
       "2              0     0          4        1930              0      1966   \n",
       "3              0     0          4        1000           1000      1963   \n",
       "4              0     0          4        1140            800      1976   \n",
       "...          ...   ...        ...         ...            ...       ...   \n",
       "4594           0     0          4        1510              0      1954   \n",
       "4595           0     0          3        1460              0      1983   \n",
       "4596           0     0          3        3010              0      2009   \n",
       "4597           0     0          3        1070           1020      1974   \n",
       "4598           0     0          4        1490              0      1990   \n",
       "\n",
       "      Yr_Renovated  \n",
       "0             2005  \n",
       "1                0  \n",
       "2                0  \n",
       "3                0  \n",
       "4             1992  \n",
       "...            ...  \n",
       "4594          1979  \n",
       "4595          2009  \n",
       "4596             0  \n",
       "4597             0  \n",
       "4598             0  \n",
       "\n",
       "[4599 rows x 13 columns]>"
      ]
     },
     "execution_count": 163,
     "metadata": {},
     "output_type": "execute_result"
    }
   ],
   "source": [
    "df.info"
   ]
  },
  {
   "cell_type": "code",
   "execution_count": 164,
   "id": "fc7d07bf",
   "metadata": {},
   "outputs": [
    {
     "data": {
      "text/plain": [
       "Price            0\n",
       "Bedrooms         0\n",
       "Bathrooms        0\n",
       "Sqft_Living      0\n",
       "Sqft_Lot         0\n",
       "Floors           0\n",
       "Waterfront       0\n",
       "View             0\n",
       "Condition        0\n",
       "Sqft_Above       0\n",
       "Sqft_Basement    0\n",
       "Yr_Built         0\n",
       "Yr_Renovated     0\n",
       "dtype: int64"
      ]
     },
     "execution_count": 164,
     "metadata": {},
     "output_type": "execute_result"
    }
   ],
   "source": [
    "df.isnull().sum()"
   ]
  },
  {
   "cell_type": "code",
   "execution_count": 165,
   "id": "122b5476",
   "metadata": {},
   "outputs": [
    {
     "name": "stdout",
     "output_type": "stream",
     "text": [
      "0.0          49\n",
      "300000.0     42\n",
      "400000.0     31\n",
      "440000.0     29\n",
      "450000.0     29\n",
      "             ..\n",
      "684680.0      1\n",
      "609900.0      1\n",
      "1635000.0     1\n",
      "1339000.0     1\n",
      "220600.0      1\n",
      "Name: Price, Length: 1741, dtype: int64\n",
      "3    2874\n",
      "4    1252\n",
      "5     435\n",
      "2      32\n",
      "1       6\n",
      "Name: Condition, dtype: int64\n",
      "0    4140\n",
      "2     205\n",
      "3     115\n",
      "4      70\n",
      "1      69\n",
      "Name: View, dtype: int64\n"
     ]
    }
   ],
   "source": [
    "print(df.Price.value_counts())\n",
    "print(df.Condition.value_counts())\n",
    "print(df.View.value_counts())"
   ]
  },
  {
   "cell_type": "code",
   "execution_count": 166,
   "id": "99cf8d28",
   "metadata": {},
   "outputs": [],
   "source": [
    "X = df.drop(['Floors','Bedrooms','Bathrooms'],axis=1)\n",
    "Y = df['Condition']"
   ]
  },
  {
   "cell_type": "code",
   "execution_count": 167,
   "id": "e8b20bc4",
   "metadata": {},
   "outputs": [
    {
     "name": "stdout",
     "output_type": "stream",
     "text": [
      "             Price  Sqft_Living  Sqft_Lot  Waterfront  View  Condition  \\\n",
      "0     3.130000e+05         1340      1340           0     0          3   \n",
      "1     2.384000e+06         3650      3930           0     4          5   \n",
      "2     3.420000e+05         1930      1930           0     0          4   \n",
      "3     4.200000e+05         2000      3000           0     0          4   \n",
      "4     5.500000e+05         1940      2740           0     0          4   \n",
      "...            ...          ...       ...         ...   ...        ...   \n",
      "4594  3.081667e+05         1510      1510           0     0          4   \n",
      "4595  5.343333e+05         1460      1460           0     0          3   \n",
      "4596  4.169042e+05         3010      3010           0     0          3   \n",
      "4597  2.034000e+05         2090      3110           0     0          3   \n",
      "4598  2.206000e+05         1490      1490           0     0          4   \n",
      "\n",
      "      Sqft_Above  Sqft_Basement  Yr_Built  Yr_Renovated  \n",
      "0           1340              0      1955          2005  \n",
      "1           3370            280      1921             0  \n",
      "2           1930              0      1966             0  \n",
      "3           1000           1000      1963             0  \n",
      "4           1140            800      1976          1992  \n",
      "...          ...            ...       ...           ...  \n",
      "4594        1510              0      1954          1979  \n",
      "4595        1460              0      1983          2009  \n",
      "4596        3010              0      2009             0  \n",
      "4597        1070           1020      1974             0  \n",
      "4598        1490              0      1990             0  \n",
      "\n",
      "[4599 rows x 10 columns]\n"
     ]
    }
   ],
   "source": [
    "print (X)"
   ]
  },
  {
   "cell_type": "code",
   "execution_count": 168,
   "id": "499cac69",
   "metadata": {},
   "outputs": [
    {
     "name": "stdout",
     "output_type": "stream",
     "text": [
      "0       3\n",
      "1       5\n",
      "2       4\n",
      "3       4\n",
      "4       4\n",
      "       ..\n",
      "4594    4\n",
      "4595    3\n",
      "4596    3\n",
      "4597    3\n",
      "4598    4\n",
      "Name: Condition, Length: 4599, dtype: int64\n"
     ]
    }
   ],
   "source": [
    "print (Y)"
   ]
  },
  {
   "cell_type": "markdown",
   "id": "af762d5c",
   "metadata": {},
   "source": [
    "Splitting Training and Test data"
   ]
  },
  {
   "cell_type": "code",
   "execution_count": 177,
   "id": "41d8ff49",
   "metadata": {},
   "outputs": [],
   "source": [
    "from sklearn.model_selection import train_test_split"
   ]
  },
  {
   "cell_type": "code",
   "execution_count": 178,
   "id": "8c86616b",
   "metadata": {},
   "outputs": [],
   "source": [
    "X_train, X_test, Y_train, Y_test = train_test_split(X, Y, test_size = 0.1, random_state=2)"
   ]
  },
  {
   "cell_type": "markdown",
   "id": "3c1ff73b",
   "metadata": {},
   "source": [
    "Model Training\n",
    "\n",
    "Linear Regression"
   ]
  },
  {
   "cell_type": "code",
   "execution_count": 179,
   "id": "5cc4f15c",
   "metadata": {},
   "outputs": [],
   "source": [
    "lin_reg_model = LinearRegression()"
   ]
  },
  {
   "cell_type": "code",
   "execution_count": 180,
   "id": "770aa23e",
   "metadata": {},
   "outputs": [
    {
     "data": {
      "text/plain": [
       "LinearRegression()"
      ]
     },
     "execution_count": 180,
     "metadata": {},
     "output_type": "execute_result"
    }
   ],
   "source": [
    "lin_reg_model.fit(X_train,Y_train)"
   ]
  },
  {
   "cell_type": "code",
   "execution_count": 181,
   "id": "ab0dd746",
   "metadata": {},
   "outputs": [
    {
     "data": {
      "text/plain": [
       "LinearRegression(normalize=False)"
      ]
     },
     "execution_count": 181,
     "metadata": {},
     "output_type": "execute_result"
    }
   ],
   "source": [
    "LinearRegression(copy_X=True, fit_intercept=True, n_jobs=None, normalize=False)"
   ]
  },
  {
   "cell_type": "markdown",
   "id": "ecc57543",
   "metadata": {},
   "source": [
    "Model Evaluation"
   ]
  },
  {
   "cell_type": "code",
   "execution_count": 182,
   "id": "4408dad0",
   "metadata": {},
   "outputs": [],
   "source": [
    "training_data_prediction = lin_reg_model.predict(X_train)"
   ]
  },
  {
   "cell_type": "code",
   "execution_count": 183,
   "id": "b36d49db",
   "metadata": {},
   "outputs": [
    {
     "name": "stdout",
     "output_type": "stream",
     "text": [
      "R squared Error :  1.0\n"
     ]
    }
   ],
   "source": [
    "error_score = metrics.r2_score(Y_train, training_data_prediction)\n",
    "print(\"R squared Error : \", error_score)"
   ]
  },
  {
   "cell_type": "markdown",
   "id": "32ed10e5",
   "metadata": {},
   "source": [
    "Visualize the actual prices and Prdicted prices"
   ]
  },
  {
   "cell_type": "code",
   "execution_count": 184,
   "id": "14f0e228",
   "metadata": {},
   "outputs": [
    {
     "data": {
      "image/png": "[encoded data removed]",
      "text/plain": [
       "<Figure size 432x288 with 1 Axes>"
      ]
     },
     "metadata": {
      "needs_background": "light"
     },
     "output_type": "display_data"
    }
   ],
   "source": [
    "plt.scatter(Y_train, training_data_prediction)\n",
    "plt.xlabel(\"Floors\")\n",
    "plt.ylabel(\"Bedrooms\")\n",
    "plt.title(\"Floors vs Bedrooms\")\n",
    "plt.show() "
   ]
  },
  {
   "cell_type": "code",
   "execution_count": 185,
   "id": "a0f4679b",
   "metadata": {},
   "outputs": [],
   "source": [
    "training_data_prediction = lin_reg_model.predict(X_test)"
   ]
  },
  {
   "cell_type": "code",
   "execution_count": 186,
   "id": "3e0eb381",
   "metadata": {},
   "outputs": [
    {
     "name": "stdout",
     "output_type": "stream",
     "text": [
      "R squared Error :  1.0\n"
     ]
    }
   ],
   "source": [
    "error_score = metrics.r2_score(Y_test, training_data_prediction)\n",
    "print(\"R squared Error : \",error_score)"
   ]
  },
  {
   "cell_type": "code",
   "execution_count": 187,
   "id": "5960a3e4",
   "metadata": {},
   "outputs": [
    {
     "data": {
      "image/png": "[encoded data removed]",
      "text/plain": [
       "<Figure size 432x288 with 1 Axes>"
      ]
     },
     "metadata": {
      "needs_background": "light"
     },
     "output_type": "display_data"
    }
   ],
   "source": [
    "plt.scatter(Y_test, training_data_prediction)\n",
    "plt.xlabel(\"Floors\")\n",
    "plt.ylabel(\"Bedrooms\")\n",
    "plt.title(\"Floors vs Bedrooms\")\n",
    "plt.show()"
   ]
  },
  {
   "cell_type": "markdown",
   "id": "69286e45",
   "metadata": {},
   "source": [
    "Lasso Regression"
   ]
  },
  {
   "cell_type": "code",
   "execution_count": 188,
   "id": "7588b92c",
   "metadata": {},
   "outputs": [],
   "source": [
    "lass_reg_model = Lasso()"
   ]
  },
  {
   "cell_type": "code",
   "execution_count": 189,
   "id": "32d04a15",
   "metadata": {},
   "outputs": [
    {
     "data": {
      "text/plain": [
       "Lasso()"
      ]
     },
     "execution_count": 189,
     "metadata": {},
     "output_type": "execute_result"
    }
   ],
   "source": [
    "lass_reg_model.fit(X_train,Y_train)"
   ]
  },
  {
   "cell_type": "code",
   "execution_count": 190,
   "id": "24f7a42a",
   "metadata": {},
   "outputs": [
    {
     "data": {
      "text/plain": [
       "Lasso(normalize=False)"
      ]
     },
     "execution_count": 190,
     "metadata": {},
     "output_type": "execute_result"
    }
   ],
   "source": [
    "Lasso(alpha=1.0, copy_X=True, fit_intercept=True, max_iter=1000, normalize=False, positive=False, random_state=None, selection='cyclic', tol=0.0001, warm_start=False)"
   ]
  },
  {
   "cell_type": "markdown",
   "id": "ddc9377b",
   "metadata": {},
   "source": [
    "Model Evaluation"
   ]
  },
  {
   "cell_type": "code",
   "execution_count": 191,
   "id": "018e76ed",
   "metadata": {},
   "outputs": [],
   "source": [
    "training_data_prediction = lass_reg_model.predict(X_train)"
   ]
  },
  {
   "cell_type": "code",
   "execution_count": 192,
   "id": "c526a4e2",
   "metadata": {},
   "outputs": [
    {
     "name": "stdout",
     "output_type": "stream",
     "text": [
      "R squared Error :  0.28730901374075857\n"
     ]
    }
   ],
   "source": [
    "error_score = metrics.r2_score(Y_train, training_data_prediction)\n",
    "print(\"R squared Error : \",error_score)"
   ]
  },
  {
   "cell_type": "markdown",
   "id": "526d7e2b",
   "metadata": {},
   "source": [
    "Visualize the actual prices and Prdicted prices"
   ]
  },
  {
   "cell_type": "code",
   "execution_count": 193,
   "id": "7977c716",
   "metadata": {},
   "outputs": [
    {
     "data": {
      "image/png": "[encoded data removed]",
      "text/plain": [
       "<Figure size 432x288 with 1 Axes>"
      ]
     },
     "metadata": {
      "needs_background": "light"
     },
     "output_type": "display_data"
    }
   ],
   "source": [
    "plt.scatter(Y_train, training_data_prediction)\n",
    "plt.xlabel(\"Floors\")\n",
    "plt.ylabel(\"Bedrooms\")\n",
    "plt.title(\"Floors vs Bedrooms\")\n",
    "plt.show()"
   ]
  },
  {
   "cell_type": "code",
   "execution_count": 194,
   "id": "1bb2a8dd",
   "metadata": {},
   "outputs": [],
   "source": [
    "test_data_prediction = lass_reg_model.predict(X_test)"
   ]
  },
  {
   "cell_type": "code",
   "execution_count": 195,
   "id": "86904899",
   "metadata": {},
   "outputs": [
    {
     "name": "stdout",
     "output_type": "stream",
     "text": [
      "R squared Error :  0.2838849897350161\n"
     ]
    }
   ],
   "source": [
    "error_score = metrics.r2_score(Y_test, test_data_prediction)\n",
    "print(\"R squared Error : \",error_score)"
   ]
  },
  {
   "cell_type": "code",
   "execution_count": 196,
   "id": "8f75d2e1",
   "metadata": {},
   "outputs": [
    {
     "data": {
      "image/png": "[encoded data removed]",
      "text/plain": [
       "<Figure size 432x288 with 1 Axes>"
      ]
     },
     "metadata": {
      "needs_background": "light"
     },
     "output_type": "display_data"
    }
   ],
   "source": [
    "plt.scatter(Y_test, test_data_prediction)\n",
    "plt.xlabel(\"Floors\")\n",
    "plt.ylabel(\"Bedrooms\")\n",
    "plt.title(\"Floors vs Bedrooms\")\n",
    "plt.show()"
   ]
  },
  {
   "cell_type": "markdown",
   "id": "77234498",
   "metadata": {},
   "source": [
    "Polynomial Regression"
   ]
  },
  {
   "cell_type": "code",
   "execution_count": 197,
   "id": "e4b8e7b4",
   "metadata": {},
   "outputs": [],
   "source": [
    "from sklearn.metrics import mean_squared_error"
   ]
  },
  {
   "cell_type": "code",
   "execution_count": 198,
   "id": "a92fea52",
   "metadata": {},
   "outputs": [],
   "source": [
    "poly_features = PolynomialFeatures(degree=2)\n",
    "X_train_poly = poly_features.fit_transform(X_train)\n",
    "X_test_poly = poly_features.transform(X_test)"
   ]
  },
  {
   "cell_type": "code",
   "execution_count": 200,
   "id": "e4cbdda6",
   "metadata": {},
   "outputs": [
    {
     "data": {
      "text/plain": [
       "LinearRegression()"
      ]
     },
     "execution_count": 200,
     "metadata": {},
     "output_type": "execute_result"
    }
   ],
   "source": [
    "poly_reg = LinearRegression()\n",
    "poly_reg.fit(X_train_poly, Y_train)"
   ]
  },
  {
   "cell_type": "code",
   "execution_count": 201,
   "id": "a020d10d",
   "metadata": {},
   "outputs": [],
   "source": [
    "from sklearn.metrics import r2_score"
   ]
  },
  {
   "cell_type": "code",
   "execution_count": 203,
   "id": "bb05ce3d",
   "metadata": {},
   "outputs": [],
   "source": [
    "y_pred = poly_reg.predict(X_test_poly)\n",
    "r2 = r2_score(Y_test, y_pred)"
   ]
  },
  {
   "cell_type": "code",
   "execution_count": 204,
   "id": "dfebed9e",
   "metadata": {},
   "outputs": [],
   "source": [
    "poly_features = PolynomialFeatures(degree=2)\n",
    "X_train_poly = poly_features.fit_transform(X_train)\n",
    "X_test_poly = poly_features.transform(X_test)"
   ]
  },
  {
   "cell_type": "code",
   "execution_count": 206,
   "id": "516daa28",
   "metadata": {},
   "outputs": [
    {
     "data": {
      "text/plain": [
       "LinearRegression()"
      ]
     },
     "execution_count": 206,
     "metadata": {},
     "output_type": "execute_result"
    }
   ],
   "source": [
    "poly_reg = LinearRegression()\n",
    "poly_reg.fit(X_train_poly, Y_train)"
   ]
  },
  {
   "cell_type": "code",
   "execution_count": 207,
   "id": "677436af",
   "metadata": {},
   "outputs": [],
   "source": [
    "from sklearn.metrics import mean_squared_error"
   ]
  },
  {
   "cell_type": "code",
   "execution_count": 208,
   "id": "286a3632",
   "metadata": {},
   "outputs": [],
   "source": [
    "import numpy as np"
   ]
  },
  {
   "cell_type": "code",
   "execution_count": 210,
   "id": "dd8abf80",
   "metadata": {},
   "outputs": [],
   "source": [
    "y_pred = poly_reg.predict(X_test_poly)\n",
    "mse = mean_squared_error(Y_test, y_pred)\n",
    "rmse = np.sqrt(mse)"
   ]
  },
  {
   "cell_type": "code",
   "execution_count": 213,
   "id": "d3020b9a",
   "metadata": {},
   "outputs": [
    {
     "name": "stdout",
     "output_type": "stream",
     "text": [
      "R squared Error :  0.9994942046692895\n"
     ]
    }
   ],
   "source": [
    "error_score = metrics.r2_score(Y_test, y_pred)\n",
    "print(\"R squared Error : \",error_score)"
   ]
  },
  {
   "cell_type": "code",
   "execution_count": 216,
   "id": "d58a206b",
   "metadata": {},
   "outputs": [
    {
     "data": {
      "image/png": "[encoded data removed]",
      "text/plain": [
       "<Figure size 432x288 with 1 Axes>"
      ]
     },
     "metadata": {
      "needs_background": "light"
     },
     "output_type": "display_data"
    }
   ],
   "source": [
    "plt.scatter(Y_test, y_pred)\n",
    "plt.xlabel(\"Floors\")\n",
    "plt.ylabel(\"Bedrooms\")\n",
    "plt.title(\"Floors vs Bedrooms\")\n",
    "plt.show()"
   ]
  },
  {
   "cell_type": "markdown",
   "id": "1f594f9d",
   "metadata": {},
   "source": [
    "Decision Tree Regression"
   ]
  },
  {
   "cell_type": "code",
   "execution_count": 218,
   "id": "f00075a5",
   "metadata": {},
   "outputs": [],
   "source": [
    "from sklearn.tree import DecisionTreeRegressor\n",
    "from sklearn.metrics import mean_squared_error"
   ]
  },
  {
   "cell_type": "code",
   "execution_count": 221,
   "id": "84d48321",
   "metadata": {},
   "outputs": [
    {
     "name": "stdout",
     "output_type": "stream",
     "text": [
      "Max Depth: None | MSE: 0.00 | RMSE: 0.00\n",
      "Max Depth: 5 | MSE: 0.00 | RMSE: 0.00\n",
      "Max Depth: 10 | MSE: 0.00 | RMSE: 0.00\n"
     ]
    }
   ],
   "source": [
    "# Define a list of hyperparameters to explore\n",
    "max_depths = [None, 5, 10]  # Example: None (unrestricted), 5, and 10 as maximum depth\n",
    "\n",
    "# Train Decision Tree Regression models with different configurations\n",
    "for max_depth in max_depths:\n",
    "    # Create the Decision Tree Regression model with the desired hyperparameters\n",
    "    dt_reg = DecisionTreeRegressor(max_depth=max_depth)\n",
    "    \n",
    "    # Fit the model to the training data\n",
    "    dt_reg.fit(X_train, Y_train)\n",
    "    \n",
    "    # Make predictions on the testing set\n",
    "    y_pred = dt_reg.predict(X_test)\n",
    "    \n",
    "    # Calculate the squared error metrics\n",
    "    mse = mean_squared_error(Y_test, y_pred)\n",
    "    rmse = np.sqrt(mse)\n",
    "    \n",
    "    print(f\"Max Depth: {max_depth} | MSE: {mse:.2f} | RMSE: {rmse:.2f}\")"
   ]
  },
  {
   "cell_type": "code",
   "execution_count": 223,
   "id": "50dea009",
   "metadata": {},
   "outputs": [
    {
     "name": "stdout",
     "output_type": "stream",
     "text": [
      "R squared Error :  1.0\n"
     ]
    }
   ],
   "source": [
    "error_score = metrics.r2_score(Y_test, y_pred)\n",
    "print(\"R squared Error : \",error_score)"
   ]
  },
  {
   "cell_type": "code",
   "execution_count": 225,
   "id": "3d8f21d2",
   "metadata": {},
   "outputs": [
    {
     "data": {
      "image/png": "[encoded data removed]",
      "text/plain": [
       "<Figure size 432x288 with 1 Axes>"
      ]
     },
     "metadata": {
      "needs_background": "light"
     },
     "output_type": "display_data"
    }
   ],
   "source": [
    "plt.scatter(Y_test, y_pred)\n",
    "plt.xlabel(\"Floors\")\n",
    "plt.ylabel(\"Bedrooms\")\n",
    "plt.title(\"Floors vs Bedrooms\")\n",
    "plt.show()"
   ]
  },
  {
   "cell_type": "code",
   "execution_count": null,
   "id": "24ca4ff1",
   "metadata": {},
   "outputs": [],
   "source": []
  }
 ],
 "metadata": {
  "kernelspec": {
   "display_name": "Python 3 (ipykernel)",
   "language": "python",
   "name": "python3"
  },
  "language_info": {
   "codemirror_mode": {
    "name": "ipython",
    "version": 3
   },
   "file_extension": ".py",
   "mimetype": "text/x-python",
   "name": "python",
   "nbconvert_exporter": "python",
   "pygments_lexer": "ipython3",
   "version": "3.9.12"
  }
 },
 "nbformat": 4,
 "nbformat_minor": 5
}
